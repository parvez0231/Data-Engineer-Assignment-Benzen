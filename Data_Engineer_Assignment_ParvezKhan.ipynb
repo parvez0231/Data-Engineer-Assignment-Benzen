{
 "cells": [
  {
   "cell_type": "code",
   "execution_count": 1,
   "id": "d84c8c12",
   "metadata": {},
   "outputs": [],
   "source": [
    "import pandas as pd\n",
    "import numpy as np\n",
    "from matplotlib import pyplot as plt\n",
    "import seaborn as sns"
   ]
  },
  {
   "cell_type": "code",
   "execution_count": 2,
   "id": "d2a93df3",
   "metadata": {},
   "outputs": [],
   "source": [
    "# read csv file\n",
    "df = pd.read_csv(r'C:\\Users\\hp\\Desktop\\bezen\\2022_02_08-02_30_31_AM.csv')"
   ]
  },
  {
   "cell_type": "code",
   "execution_count": 3,
   "id": "1d7c800f",
   "metadata": {},
   "outputs": [
    {
     "data": {
      "text/html": [
       "<div>\n",
       "<style scoped>\n",
       "    .dataframe tbody tr th:only-of-type {\n",
       "        vertical-align: middle;\n",
       "    }\n",
       "\n",
       "    .dataframe tbody tr th {\n",
       "        vertical-align: top;\n",
       "    }\n",
       "\n",
       "    .dataframe thead th {\n",
       "        text-align: right;\n",
       "    }\n",
       "</style>\n",
       "<table border=\"1\" class=\"dataframe\">\n",
       "  <thead>\n",
       "    <tr style=\"text-align: right;\">\n",
       "      <th></th>\n",
       "      <th>uuid</th>\n",
       "      <th>price_string</th>\n",
       "      <th>price_string_unf</th>\n",
       "      <th>product_type</th>\n",
       "      <th>level_1</th>\n",
       "      <th>category</th>\n",
       "    </tr>\n",
       "  </thead>\n",
       "  <tbody>\n",
       "    <tr>\n",
       "      <th>0</th>\n",
       "      <td>638744a4-b0ae-4166-8cb6-5c063c862036</td>\n",
       "      <td>NaN</td>\n",
       "      <td>NaN</td>\n",
       "      <td>TGFwdG9wIENvdmVycy9CYWdz</td>\n",
       "      <td>TGFwdG9wIENhc2U</td>\n",
       "      <td>RWxlY3Ryb25pY3M</td>\n",
       "    </tr>\n",
       "    <tr>\n",
       "      <th>1</th>\n",
       "      <td>ab313969-02cc-48b2-9daf-0054efb70b92</td>\n",
       "      <td>NaN</td>\n",
       "      <td>NaN</td>\n",
       "      <td>QmFraW5nIEN1cHMgYW5kIE1hdHM</td>\n",
       "      <td>QmFraW5nIE1hdHMgLyBCYWtpbmcgZGlzaA</td>\n",
       "      <td>a2l0Y2hpbmcgYW5kIGRpbmluZw</td>\n",
       "    </tr>\n",
       "    <tr>\n",
       "      <th>2</th>\n",
       "      <td>acbd66ff-79f8-467a-91f9-108a45af5626</td>\n",
       "      <td>$19.95</td>\n",
       "      <td>NaN</td>\n",
       "      <td>R3VtbWllcyB2aXRhbWlucyBhbmQgbWluZXJhbHMgZm9yIG...</td>\n",
       "      <td>SW1tdW5pdHkgZ3VtbWllcw</td>\n",
       "      <td>SGVhbHRo</td>\n",
       "    </tr>\n",
       "    <tr>\n",
       "      <th>3</th>\n",
       "      <td>963915d6-b2e3-4098-b242-9410593cf205</td>\n",
       "      <td>$92.00</td>\n",
       "      <td>NaN</td>\n",
       "      <td>U2VydW1z</td>\n",
       "      <td>RmFjZSBTZXJ1bQ</td>\n",
       "      <td>YmVhdXR5IGFuZCBwZXJzb25hbCBjYXJl</td>\n",
       "    </tr>\n",
       "    <tr>\n",
       "      <th>4</th>\n",
       "      <td>b5b68f3c-b1e0-40e5-8ee5-e2f7236c1daf</td>\n",
       "      <td>11.50</td>\n",
       "      <td>NaN</td>\n",
       "      <td>RWF0aW5nIFV0ZW5zaWxzL0N1dGxlcnk</td>\n",
       "      <td>Q2hvcHN0aWNrcw</td>\n",
       "      <td>a2l0Y2hpbmcgYW5kIGRpbmluZw</td>\n",
       "    </tr>\n",
       "  </tbody>\n",
       "</table>\n",
       "</div>"
      ],
      "text/plain": [
       "                                   uuid price_string price_string_unf  \\\n",
       "0  638744a4-b0ae-4166-8cb6-5c063c862036          NaN              NaN   \n",
       "1  ab313969-02cc-48b2-9daf-0054efb70b92          NaN              NaN   \n",
       "2  acbd66ff-79f8-467a-91f9-108a45af5626       $19.95              NaN   \n",
       "3  963915d6-b2e3-4098-b242-9410593cf205       $92.00              NaN   \n",
       "4  b5b68f3c-b1e0-40e5-8ee5-e2f7236c1daf        11.50              NaN   \n",
       "\n",
       "                                        product_type  \\\n",
       "0                           TGFwdG9wIENvdmVycy9CYWdz   \n",
       "1                        QmFraW5nIEN1cHMgYW5kIE1hdHM   \n",
       "2  R3VtbWllcyB2aXRhbWlucyBhbmQgbWluZXJhbHMgZm9yIG...   \n",
       "3                                           U2VydW1z   \n",
       "4                    RWF0aW5nIFV0ZW5zaWxzL0N1dGxlcnk   \n",
       "\n",
       "                              level_1                          category  \n",
       "0                     TGFwdG9wIENhc2U                   RWxlY3Ryb25pY3M  \n",
       "1  QmFraW5nIE1hdHMgLyBCYWtpbmcgZGlzaA        a2l0Y2hpbmcgYW5kIGRpbmluZw  \n",
       "2              SW1tdW5pdHkgZ3VtbWllcw                          SGVhbHRo  \n",
       "3                      RmFjZSBTZXJ1bQ  YmVhdXR5IGFuZCBwZXJzb25hbCBjYXJl  \n",
       "4                      Q2hvcHN0aWNrcw        a2l0Y2hpbmcgYW5kIGRpbmluZw  "
      ]
     },
     "execution_count": 3,
     "metadata": {},
     "output_type": "execute_result"
    }
   ],
   "source": [
    "# show the first 5 rows of the dataset\n",
    "# to ensure proper import of the dataset.\n",
    "df.head()"
   ]
  },
  {
   "cell_type": "code",
   "execution_count": 4,
   "id": "907d7a3e",
   "metadata": {},
   "outputs": [
    {
     "data": {
      "text/plain": [
       "(13730000, 6)"
      ]
     },
     "execution_count": 4,
     "metadata": {},
     "output_type": "execute_result"
    }
   ],
   "source": [
    "# the number of entries in the dataset\n",
    "# w.r.t rows and columns\n",
    "df.shape"
   ]
  },
  {
   "cell_type": "code",
   "execution_count": 5,
   "id": "65fa3c2d",
   "metadata": {},
   "outputs": [
    {
     "name": "stdout",
     "output_type": "stream",
     "text": [
      "<class 'pandas.core.frame.DataFrame'>\n",
      "RangeIndex: 13730000 entries, 0 to 13729999\n",
      "Data columns (total 6 columns):\n",
      " #   Column            Dtype \n",
      "---  ------            ----- \n",
      " 0   uuid              object\n",
      " 1   price_string      object\n",
      " 2   price_string_unf  object\n",
      " 3   product_type      object\n",
      " 4   level_1           object\n",
      " 5   category          object\n",
      "dtypes: object(6)\n",
      "memory usage: 628.5+ MB\n"
     ]
    }
   ],
   "source": [
    "# show datatypes of the columns\n",
    "df.info()"
   ]
  },
  {
   "cell_type": "code",
   "execution_count": 6,
   "id": "46fe813c",
   "metadata": {},
   "outputs": [
    {
     "data": {
      "text/plain": [
       "uuid                       0\n",
       "price_string         8220000\n",
       "price_string_unf    13420000\n",
       "product_type           10000\n",
       "level_1                50000\n",
       "category               10000\n",
       "dtype: int64"
      ]
     },
     "execution_count": 6,
     "metadata": {},
     "output_type": "execute_result"
    }
   ],
   "source": [
    "# find null values in the dataset\n",
    "df.isnull().sum()"
   ]
  },
  {
   "cell_type": "code",
   "execution_count": 7,
   "id": "70ac0747",
   "metadata": {},
   "outputs": [],
   "source": [
    "# we will handle the missing values by deleting it from the data.\n",
    "# since the data is big it is possible to delete missing entries.\n",
    "df = df[df['product_type'].notna()]"
   ]
  },
  {
   "cell_type": "code",
   "execution_count": 8,
   "id": "e92f7275",
   "metadata": {},
   "outputs": [],
   "source": [
    "# all the null categories are also removed\n",
    "# now remove the level_1 column null values\n",
    "df = df[df['level_1'].notna()]"
   ]
  },
  {
   "cell_type": "markdown",
   "id": "9585d344",
   "metadata": {},
   "source": [
    "## 1. Products without prices."
   ]
  },
  {
   "cell_type": "code",
   "execution_count": 9,
   "id": "8252784e",
   "metadata": {},
   "outputs": [
    {
     "data": {
      "text/plain": [
       "\"\\n  for i in range(len(df)):\\n    if (str(df['price_string'][i]) in str(df['price_string_unf'][i]) and str(df['price_string_unf'][i])!='nan'):\\n       df['price_string_unf']= df['price_string_unf'].replace(to_replace = str(df['price_string_unf'][i]) , value = np.nan)\\n\""
      ]
     },
     "execution_count": 9,
     "metadata": {},
     "output_type": "execute_result"
    }
   ],
   "source": [
    "# one way to check if price_string column and price_string_unf column has same values is by using for loop\n",
    "# if the values are same replace price_string_unf with nan\n",
    "# since the dataset is big we will avoid looping over the data as much as possible\n",
    "# Example of for loop:\n",
    "'''\n",
    "  for i in range(len(df)):\n",
    "    if (str(df['price_string'][i]) in str(df['price_string_unf'][i]) and str(df['price_string_unf'][i])!='nan'):\n",
    "       df['price_string_unf']= df['price_string_unf'].replace(to_replace = str(df['price_string_unf'][i]) , value = np.nan)\n",
    "'''"
   ]
  },
  {
   "cell_type": "code",
   "execution_count": 10,
   "id": "58c5711d",
   "metadata": {},
   "outputs": [
    {
     "data": {
      "text/plain": [
       "$6.75                               30000\n",
       "$11.99                              20000\n",
       "$49.00                              20000\n",
       "$85 USD                             20000\n",
       "$10.00                              10000\n",
       "$198.00                             10000\n",
       "$52 USD                             10000\n",
       "$80 USD                             10000\n",
       "$50 USD                             10000\n",
       "$138.00\\n\\n\\n\\n$96.60               10000\n",
       "$25.00                              10000\n",
       "$29.00                              10000\n",
       "$178.00\\n\\n\\n\\n$59.50               10000\n",
       "$95 USD                             10000\n",
       "Current price: \\n$359.00            10000\n",
       "$99.00                              10000\n",
       "Current price: \\n$329.40            10000\n",
       "$178.00\\n\\n\\n\\n$64.50               10000\n",
       "$248.00\\n\\n\\n\\n$104.50 - $248.00    10000\n",
       "$24.00                              10000\n",
       "$41 USD                             10000\n",
       "$619.00                             10000\n",
       "$459.99                             10000\n",
       "$18.95                              10000\n",
       "$15.00                              10000\n",
       "$30.00                              10000\n",
       "Name: price_string_unf, dtype: int64"
      ]
     },
     "execution_count": 10,
     "metadata": {},
     "output_type": "execute_result"
    }
   ],
   "source": [
    "# count unique values in the price_string_unf column\n",
    "df['price_string_unf'].value_counts()"
   ]
  },
  {
   "cell_type": "markdown",
   "id": "e86f81f7",
   "metadata": {},
   "source": [
    "**We can see that some of the pricing are different than the others. We need to filter this data and have clean price.**"
   ]
  },
  {
   "cell_type": "code",
   "execution_count": 11,
   "id": "c107ec38",
   "metadata": {},
   "outputs": [],
   "source": [
    "# remove USD in the price_string_unf column\n",
    "df['price_string_unf'] = df['price_string_unf'].str.replace('USD', '')"
   ]
  },
  {
   "cell_type": "code",
   "execution_count": 12,
   "id": "961a3f3c",
   "metadata": {},
   "outputs": [],
   "source": [
    "# remove trailing spaces\n",
    "df['price_string_unf'] = df['price_string_unf'].str.strip()"
   ]
  },
  {
   "cell_type": "code",
   "execution_count": 13,
   "id": "36b629e4",
   "metadata": {},
   "outputs": [
    {
     "name": "stderr",
     "output_type": "stream",
     "text": [
      "C:\\Users\\hp\\AppData\\Local\\Temp\\ipykernel_7576\\3957508119.py:4: FutureWarning: The default value of regex will change from True to False in a future version. In addition, single character regular expressions will *not* be treated as literal strings when regex=True.\n",
      "  df['price_string_unf'] = df['price_string_unf'].str.replace('$','').str.replace('\\n','').astype('string')\n"
     ]
    }
   ],
   "source": [
    "# remove '$' sign from the price_string_unf\n",
    "# remove /n or next line from the prices of price_string_unf column\n",
    "\n",
    "df['price_string_unf'] = df['price_string_unf'].str.replace('$','').str.replace('\\n','').astype('string')"
   ]
  },
  {
   "cell_type": "code",
   "execution_count": 14,
   "id": "7c009852",
   "metadata": {},
   "outputs": [
    {
     "data": {
      "text/plain": [
       "6.75                     30000\n",
       "49.00                    20000\n",
       "85                       20000\n",
       "11.99                    20000\n",
       "99.00                    10000\n",
       "15.00                    10000\n",
       "18.95                    10000\n",
       "459.99                   10000\n",
       "619.00                   10000\n",
       "41                       10000\n",
       "24.00                    10000\n",
       "248.00104.50 - 248.00    10000\n",
       "178.0064.50              10000\n",
       "Current price: 329.40    10000\n",
       "95                       10000\n",
       "Current price: 359.00    10000\n",
       "178.0059.50              10000\n",
       "29.00                    10000\n",
       "25.00                    10000\n",
       "138.0096.60              10000\n",
       "50                       10000\n",
       "80                       10000\n",
       "52                       10000\n",
       "198.00                   10000\n",
       "10.00                    10000\n",
       "30.00                    10000\n",
       "Name: price_string_unf, dtype: Int64"
      ]
     },
     "execution_count": 14,
     "metadata": {},
     "output_type": "execute_result"
    }
   ],
   "source": [
    "df['price_string_unf'].value_counts()"
   ]
  },
  {
   "cell_type": "markdown",
   "id": "e5056dff",
   "metadata": {},
   "source": [
    "**Now we are left with only 6 type of prices which are not in the proper format.** "
   ]
  },
  {
   "cell_type": "code",
   "execution_count": 15,
   "id": "54ed6649",
   "metadata": {},
   "outputs": [
    {
     "data": {
      "text/html": [
       "<div>\n",
       "<style scoped>\n",
       "    .dataframe tbody tr th:only-of-type {\n",
       "        vertical-align: middle;\n",
       "    }\n",
       "\n",
       "    .dataframe tbody tr th {\n",
       "        vertical-align: top;\n",
       "    }\n",
       "\n",
       "    .dataframe thead th {\n",
       "        text-align: right;\n",
       "    }\n",
       "</style>\n",
       "<table border=\"1\" class=\"dataframe\">\n",
       "  <thead>\n",
       "    <tr style=\"text-align: right;\">\n",
       "      <th></th>\n",
       "      <th>uuid</th>\n",
       "      <th>price_string</th>\n",
       "      <th>price_string_unf</th>\n",
       "      <th>product_type</th>\n",
       "      <th>level_1</th>\n",
       "      <th>category</th>\n",
       "    </tr>\n",
       "  </thead>\n",
       "  <tbody>\n",
       "    <tr>\n",
       "      <th>count</th>\n",
       "      <td>10000</td>\n",
       "      <td>0</td>\n",
       "      <td>10000</td>\n",
       "      <td>10000</td>\n",
       "      <td>10000</td>\n",
       "      <td>10000</td>\n",
       "    </tr>\n",
       "    <tr>\n",
       "      <th>unique</th>\n",
       "      <td>1</td>\n",
       "      <td>0</td>\n",
       "      <td>1</td>\n",
       "      <td>1</td>\n",
       "      <td>1</td>\n",
       "      <td>1</td>\n",
       "    </tr>\n",
       "    <tr>\n",
       "      <th>top</th>\n",
       "      <td>22c4b6af-6809-4ea1-9f1c-802a19246025</td>\n",
       "      <td>NaN</td>\n",
       "      <td>Current price: 329.40</td>\n",
       "      <td>U3Ryb2xsZXJzL0NhciBzZWF0cy8gQWNjZXNzb3JpZXM</td>\n",
       "      <td>U3Ryb2xsZXJz</td>\n",
       "      <td>QmFieWNhcmU</td>\n",
       "    </tr>\n",
       "    <tr>\n",
       "      <th>freq</th>\n",
       "      <td>10000</td>\n",
       "      <td>NaN</td>\n",
       "      <td>10000</td>\n",
       "      <td>10000</td>\n",
       "      <td>10000</td>\n",
       "      <td>10000</td>\n",
       "    </tr>\n",
       "  </tbody>\n",
       "</table>\n",
       "</div>"
      ],
      "text/plain": [
       "                                        uuid price_string  \\\n",
       "count                                  10000            0   \n",
       "unique                                     1            0   \n",
       "top     22c4b6af-6809-4ea1-9f1c-802a19246025          NaN   \n",
       "freq                                   10000          NaN   \n",
       "\n",
       "             price_string_unf                                 product_type  \\\n",
       "count                   10000                                        10000   \n",
       "unique                      1                                            1   \n",
       "top     Current price: 329.40  U3Ryb2xsZXJzL0NhciBzZWF0cy8gQWNjZXNzb3JpZXM   \n",
       "freq                    10000                                        10000   \n",
       "\n",
       "             level_1     category  \n",
       "count          10000        10000  \n",
       "unique             1            1  \n",
       "top     U3Ryb2xsZXJz  QmFieWNhcmU  \n",
       "freq           10000        10000  "
      ]
     },
     "execution_count": 15,
     "metadata": {},
     "output_type": "execute_result"
    }
   ],
   "source": [
    "# describe each type of the prices to get info about them.\n",
    "# notice the value in price_string column of each.\n",
    "\n",
    "df[df['price_string_unf']=='Current price: 329.40'].describe()"
   ]
  },
  {
   "cell_type": "code",
   "execution_count": 16,
   "id": "6c3d9609",
   "metadata": {},
   "outputs": [
    {
     "data": {
      "text/html": [
       "<div>\n",
       "<style scoped>\n",
       "    .dataframe tbody tr th:only-of-type {\n",
       "        vertical-align: middle;\n",
       "    }\n",
       "\n",
       "    .dataframe tbody tr th {\n",
       "        vertical-align: top;\n",
       "    }\n",
       "\n",
       "    .dataframe thead th {\n",
       "        text-align: right;\n",
       "    }\n",
       "</style>\n",
       "<table border=\"1\" class=\"dataframe\">\n",
       "  <thead>\n",
       "    <tr style=\"text-align: right;\">\n",
       "      <th></th>\n",
       "      <th>uuid</th>\n",
       "      <th>price_string</th>\n",
       "      <th>price_string_unf</th>\n",
       "      <th>product_type</th>\n",
       "      <th>level_1</th>\n",
       "      <th>category</th>\n",
       "    </tr>\n",
       "  </thead>\n",
       "  <tbody>\n",
       "    <tr>\n",
       "      <th>count</th>\n",
       "      <td>10000</td>\n",
       "      <td>0</td>\n",
       "      <td>10000</td>\n",
       "      <td>10000</td>\n",
       "      <td>10000</td>\n",
       "      <td>10000</td>\n",
       "    </tr>\n",
       "    <tr>\n",
       "      <th>unique</th>\n",
       "      <td>1</td>\n",
       "      <td>0</td>\n",
       "      <td>1</td>\n",
       "      <td>1</td>\n",
       "      <td>1</td>\n",
       "      <td>1</td>\n",
       "    </tr>\n",
       "    <tr>\n",
       "      <th>top</th>\n",
       "      <td>ff30484a-a51c-4027-b9b7-12ee239b3a94</td>\n",
       "      <td>NaN</td>\n",
       "      <td>248.00104.50 - 248.00</td>\n",
       "      <td>UGx1cyBzaXplIHdlYXI</td>\n",
       "      <td>Q29hdC9KYWNrZXQ</td>\n",
       "      <td>Q2xvdGhpbmcgYW5kIEFjY2Vzc29yaWVz</td>\n",
       "    </tr>\n",
       "    <tr>\n",
       "      <th>freq</th>\n",
       "      <td>10000</td>\n",
       "      <td>NaN</td>\n",
       "      <td>10000</td>\n",
       "      <td>10000</td>\n",
       "      <td>10000</td>\n",
       "      <td>10000</td>\n",
       "    </tr>\n",
       "  </tbody>\n",
       "</table>\n",
       "</div>"
      ],
      "text/plain": [
       "                                        uuid price_string  \\\n",
       "count                                  10000            0   \n",
       "unique                                     1            0   \n",
       "top     ff30484a-a51c-4027-b9b7-12ee239b3a94          NaN   \n",
       "freq                                   10000          NaN   \n",
       "\n",
       "             price_string_unf         product_type          level_1  \\\n",
       "count                   10000                10000            10000   \n",
       "unique                      1                    1                1   \n",
       "top     248.00104.50 - 248.00  UGx1cyBzaXplIHdlYXI  Q29hdC9KYWNrZXQ   \n",
       "freq                    10000                10000            10000   \n",
       "\n",
       "                                category  \n",
       "count                              10000  \n",
       "unique                                 1  \n",
       "top     Q2xvdGhpbmcgYW5kIEFjY2Vzc29yaWVz  \n",
       "freq                               10000  "
      ]
     },
     "execution_count": 16,
     "metadata": {},
     "output_type": "execute_result"
    }
   ],
   "source": [
    "df[df['price_string_unf']=='248.00104.50 - 248.00'].describe()"
   ]
  },
  {
   "cell_type": "code",
   "execution_count": 17,
   "id": "cadfd933",
   "metadata": {},
   "outputs": [
    {
     "data": {
      "text/html": [
       "<div>\n",
       "<style scoped>\n",
       "    .dataframe tbody tr th:only-of-type {\n",
       "        vertical-align: middle;\n",
       "    }\n",
       "\n",
       "    .dataframe tbody tr th {\n",
       "        vertical-align: top;\n",
       "    }\n",
       "\n",
       "    .dataframe thead th {\n",
       "        text-align: right;\n",
       "    }\n",
       "</style>\n",
       "<table border=\"1\" class=\"dataframe\">\n",
       "  <thead>\n",
       "    <tr style=\"text-align: right;\">\n",
       "      <th></th>\n",
       "      <th>uuid</th>\n",
       "      <th>price_string</th>\n",
       "      <th>price_string_unf</th>\n",
       "      <th>product_type</th>\n",
       "      <th>level_1</th>\n",
       "      <th>category</th>\n",
       "    </tr>\n",
       "  </thead>\n",
       "  <tbody>\n",
       "    <tr>\n",
       "      <th>count</th>\n",
       "      <td>10000</td>\n",
       "      <td>0</td>\n",
       "      <td>10000</td>\n",
       "      <td>10000</td>\n",
       "      <td>10000</td>\n",
       "      <td>10000</td>\n",
       "    </tr>\n",
       "    <tr>\n",
       "      <th>unique</th>\n",
       "      <td>1</td>\n",
       "      <td>0</td>\n",
       "      <td>1</td>\n",
       "      <td>1</td>\n",
       "      <td>1</td>\n",
       "      <td>1</td>\n",
       "    </tr>\n",
       "    <tr>\n",
       "      <th>top</th>\n",
       "      <td>13724827-979f-4019-9ff1-b44e57af5802</td>\n",
       "      <td>NaN</td>\n",
       "      <td>Current price: 359.00</td>\n",
       "      <td>U3Ryb2xsZXJzL0NhciBzZWF0cy8gQWNjZXNzb3JpZXM</td>\n",
       "      <td>Q2FyIHNlYXRz</td>\n",
       "      <td>QmFieWNhcmU</td>\n",
       "    </tr>\n",
       "    <tr>\n",
       "      <th>freq</th>\n",
       "      <td>10000</td>\n",
       "      <td>NaN</td>\n",
       "      <td>10000</td>\n",
       "      <td>10000</td>\n",
       "      <td>10000</td>\n",
       "      <td>10000</td>\n",
       "    </tr>\n",
       "  </tbody>\n",
       "</table>\n",
       "</div>"
      ],
      "text/plain": [
       "                                        uuid price_string  \\\n",
       "count                                  10000            0   \n",
       "unique                                     1            0   \n",
       "top     13724827-979f-4019-9ff1-b44e57af5802          NaN   \n",
       "freq                                   10000          NaN   \n",
       "\n",
       "             price_string_unf                                 product_type  \\\n",
       "count                   10000                                        10000   \n",
       "unique                      1                                            1   \n",
       "top     Current price: 359.00  U3Ryb2xsZXJzL0NhciBzZWF0cy8gQWNjZXNzb3JpZXM   \n",
       "freq                    10000                                        10000   \n",
       "\n",
       "             level_1     category  \n",
       "count          10000        10000  \n",
       "unique             1            1  \n",
       "top     Q2FyIHNlYXRz  QmFieWNhcmU  \n",
       "freq           10000        10000  "
      ]
     },
     "execution_count": 17,
     "metadata": {},
     "output_type": "execute_result"
    }
   ],
   "source": [
    "df[df['price_string_unf']=='Current price: 359.00'].describe()"
   ]
  },
  {
   "cell_type": "code",
   "execution_count": 18,
   "id": "430c20f2",
   "metadata": {},
   "outputs": [
    {
     "data": {
      "text/html": [
       "<div>\n",
       "<style scoped>\n",
       "    .dataframe tbody tr th:only-of-type {\n",
       "        vertical-align: middle;\n",
       "    }\n",
       "\n",
       "    .dataframe tbody tr th {\n",
       "        vertical-align: top;\n",
       "    }\n",
       "\n",
       "    .dataframe thead th {\n",
       "        text-align: right;\n",
       "    }\n",
       "</style>\n",
       "<table border=\"1\" class=\"dataframe\">\n",
       "  <thead>\n",
       "    <tr style=\"text-align: right;\">\n",
       "      <th></th>\n",
       "      <th>uuid</th>\n",
       "      <th>price_string</th>\n",
       "      <th>price_string_unf</th>\n",
       "      <th>product_type</th>\n",
       "      <th>level_1</th>\n",
       "      <th>category</th>\n",
       "    </tr>\n",
       "  </thead>\n",
       "  <tbody>\n",
       "    <tr>\n",
       "      <th>count</th>\n",
       "      <td>10000</td>\n",
       "      <td>0</td>\n",
       "      <td>10000</td>\n",
       "      <td>10000</td>\n",
       "      <td>10000</td>\n",
       "      <td>10000</td>\n",
       "    </tr>\n",
       "    <tr>\n",
       "      <th>unique</th>\n",
       "      <td>1</td>\n",
       "      <td>0</td>\n",
       "      <td>1</td>\n",
       "      <td>1</td>\n",
       "      <td>1</td>\n",
       "      <td>1</td>\n",
       "    </tr>\n",
       "    <tr>\n",
       "      <th>top</th>\n",
       "      <td>ce5f2b6d-06a8-4231-b358-835905a314fa</td>\n",
       "      <td>NaN</td>\n",
       "      <td>138.0096.60</td>\n",
       "      <td>UGx1cyBzaXplIHdlYXIgc2tpcnQ</td>\n",
       "      <td>U2tpcnQ</td>\n",
       "      <td>Q2xvdGhpbmcgYW5kIEFjY2Vzc29yaWVz</td>\n",
       "    </tr>\n",
       "    <tr>\n",
       "      <th>freq</th>\n",
       "      <td>10000</td>\n",
       "      <td>NaN</td>\n",
       "      <td>10000</td>\n",
       "      <td>10000</td>\n",
       "      <td>10000</td>\n",
       "      <td>10000</td>\n",
       "    </tr>\n",
       "  </tbody>\n",
       "</table>\n",
       "</div>"
      ],
      "text/plain": [
       "                                        uuid price_string price_string_unf  \\\n",
       "count                                  10000            0            10000   \n",
       "unique                                     1            0                1   \n",
       "top     ce5f2b6d-06a8-4231-b358-835905a314fa          NaN      138.0096.60   \n",
       "freq                                   10000          NaN            10000   \n",
       "\n",
       "                       product_type  level_1                          category  \n",
       "count                         10000    10000                             10000  \n",
       "unique                            1        1                                 1  \n",
       "top     UGx1cyBzaXplIHdlYXIgc2tpcnQ  U2tpcnQ  Q2xvdGhpbmcgYW5kIEFjY2Vzc29yaWVz  \n",
       "freq                          10000    10000                             10000  "
      ]
     },
     "execution_count": 18,
     "metadata": {},
     "output_type": "execute_result"
    }
   ],
   "source": [
    "df[df['price_string_unf']=='138.0096.60'].describe()"
   ]
  },
  {
   "cell_type": "code",
   "execution_count": 19,
   "id": "6ac2282d",
   "metadata": {},
   "outputs": [
    {
     "data": {
      "text/html": [
       "<div>\n",
       "<style scoped>\n",
       "    .dataframe tbody tr th:only-of-type {\n",
       "        vertical-align: middle;\n",
       "    }\n",
       "\n",
       "    .dataframe tbody tr th {\n",
       "        vertical-align: top;\n",
       "    }\n",
       "\n",
       "    .dataframe thead th {\n",
       "        text-align: right;\n",
       "    }\n",
       "</style>\n",
       "<table border=\"1\" class=\"dataframe\">\n",
       "  <thead>\n",
       "    <tr style=\"text-align: right;\">\n",
       "      <th></th>\n",
       "      <th>uuid</th>\n",
       "      <th>price_string</th>\n",
       "      <th>price_string_unf</th>\n",
       "      <th>product_type</th>\n",
       "      <th>level_1</th>\n",
       "      <th>category</th>\n",
       "    </tr>\n",
       "  </thead>\n",
       "  <tbody>\n",
       "    <tr>\n",
       "      <th>count</th>\n",
       "      <td>10000</td>\n",
       "      <td>10000</td>\n",
       "      <td>10000</td>\n",
       "      <td>10000</td>\n",
       "      <td>10000</td>\n",
       "      <td>10000</td>\n",
       "    </tr>\n",
       "    <tr>\n",
       "      <th>unique</th>\n",
       "      <td>1</td>\n",
       "      <td>1</td>\n",
       "      <td>1</td>\n",
       "      <td>1</td>\n",
       "      <td>1</td>\n",
       "      <td>1</td>\n",
       "    </tr>\n",
       "    <tr>\n",
       "      <th>top</th>\n",
       "      <td>5daa829a-1c4e-46d9-a886-87dfa6c846db</td>\n",
       "      <td>$178</td>\n",
       "      <td>178.0059.50</td>\n",
       "      <td>UGx1cyBzaXplIHdlYXI</td>\n",
       "      <td>VG9w</td>\n",
       "      <td>Q2xvdGhpbmcgYW5kIEFjY2Vzc29yaWVz</td>\n",
       "    </tr>\n",
       "    <tr>\n",
       "      <th>freq</th>\n",
       "      <td>10000</td>\n",
       "      <td>10000</td>\n",
       "      <td>10000</td>\n",
       "      <td>10000</td>\n",
       "      <td>10000</td>\n",
       "      <td>10000</td>\n",
       "    </tr>\n",
       "  </tbody>\n",
       "</table>\n",
       "</div>"
      ],
      "text/plain": [
       "                                        uuid price_string price_string_unf  \\\n",
       "count                                  10000        10000            10000   \n",
       "unique                                     1            1                1   \n",
       "top     5daa829a-1c4e-46d9-a886-87dfa6c846db         $178      178.0059.50   \n",
       "freq                                   10000        10000            10000   \n",
       "\n",
       "               product_type level_1                          category  \n",
       "count                 10000   10000                             10000  \n",
       "unique                    1       1                                 1  \n",
       "top     UGx1cyBzaXplIHdlYXI    VG9w  Q2xvdGhpbmcgYW5kIEFjY2Vzc29yaWVz  \n",
       "freq                  10000   10000                             10000  "
      ]
     },
     "execution_count": 19,
     "metadata": {},
     "output_type": "execute_result"
    }
   ],
   "source": [
    "# notice that price_string column has price $178\n",
    "df[df['price_string_unf']=='178.0059.50'].describe()"
   ]
  },
  {
   "cell_type": "code",
   "execution_count": 20,
   "id": "88a05d1d",
   "metadata": {},
   "outputs": [
    {
     "data": {
      "text/html": [
       "<div>\n",
       "<style scoped>\n",
       "    .dataframe tbody tr th:only-of-type {\n",
       "        vertical-align: middle;\n",
       "    }\n",
       "\n",
       "    .dataframe tbody tr th {\n",
       "        vertical-align: top;\n",
       "    }\n",
       "\n",
       "    .dataframe thead th {\n",
       "        text-align: right;\n",
       "    }\n",
       "</style>\n",
       "<table border=\"1\" class=\"dataframe\">\n",
       "  <thead>\n",
       "    <tr style=\"text-align: right;\">\n",
       "      <th></th>\n",
       "      <th>uuid</th>\n",
       "      <th>price_string</th>\n",
       "      <th>price_string_unf</th>\n",
       "      <th>product_type</th>\n",
       "      <th>level_1</th>\n",
       "      <th>category</th>\n",
       "    </tr>\n",
       "  </thead>\n",
       "  <tbody>\n",
       "    <tr>\n",
       "      <th>count</th>\n",
       "      <td>10000</td>\n",
       "      <td>10000</td>\n",
       "      <td>10000</td>\n",
       "      <td>10000</td>\n",
       "      <td>10000</td>\n",
       "      <td>10000</td>\n",
       "    </tr>\n",
       "    <tr>\n",
       "      <th>unique</th>\n",
       "      <td>1</td>\n",
       "      <td>1</td>\n",
       "      <td>1</td>\n",
       "      <td>1</td>\n",
       "      <td>1</td>\n",
       "      <td>1</td>\n",
       "    </tr>\n",
       "    <tr>\n",
       "      <th>top</th>\n",
       "      <td>02213b64-6b87-44cb-924c-4b3ace93002f</td>\n",
       "      <td>$178</td>\n",
       "      <td>178.0064.50</td>\n",
       "      <td>UGx1cyBzaXplIHdlYXI</td>\n",
       "      <td>UGFudA</td>\n",
       "      <td>Q2xvdGhpbmcgYW5kIEFjY2Vzc29yaWVz</td>\n",
       "    </tr>\n",
       "    <tr>\n",
       "      <th>freq</th>\n",
       "      <td>10000</td>\n",
       "      <td>10000</td>\n",
       "      <td>10000</td>\n",
       "      <td>10000</td>\n",
       "      <td>10000</td>\n",
       "      <td>10000</td>\n",
       "    </tr>\n",
       "  </tbody>\n",
       "</table>\n",
       "</div>"
      ],
      "text/plain": [
       "                                        uuid price_string price_string_unf  \\\n",
       "count                                  10000        10000            10000   \n",
       "unique                                     1            1                1   \n",
       "top     02213b64-6b87-44cb-924c-4b3ace93002f         $178      178.0064.50   \n",
       "freq                                   10000        10000            10000   \n",
       "\n",
       "               product_type level_1                          category  \n",
       "count                 10000   10000                             10000  \n",
       "unique                    1       1                                 1  \n",
       "top     UGx1cyBzaXplIHdlYXI  UGFudA  Q2xvdGhpbmcgYW5kIEFjY2Vzc29yaWVz  \n",
       "freq                  10000   10000                             10000  "
      ]
     },
     "execution_count": 20,
     "metadata": {},
     "output_type": "execute_result"
    }
   ],
   "source": [
    "# notice that price_string column has price $178\n",
    "df[df['price_string_unf']=='178.0064.50'].describe()"
   ]
  },
  {
   "cell_type": "markdown",
   "id": "ae8650d9",
   "metadata": {},
   "source": [
    "**Assumption -**\n",
    "from the two prices present in a single entry I've chosen the higher value to continue analysis."
   ]
  },
  {
   "cell_type": "code",
   "execution_count": 21,
   "id": "74a8bf33",
   "metadata": {},
   "outputs": [
    {
     "name": "stderr",
     "output_type": "stream",
     "text": [
      "C:\\Users\\hp\\AppData\\Local\\Temp\\ipykernel_7576\\725749742.py:2: FutureWarning: The default value of regex will change from True to False in a future version.\n",
      "  df['price_string_unf']= df['price_string_unf'].str.replace('138.0096.60', '138.00')\n"
     ]
    }
   ],
   "source": [
    "# replace 138.0096.60 with 138.00\n",
    "df['price_string_unf']= df['price_string_unf'].str.replace('138.0096.60', '138.00')"
   ]
  },
  {
   "cell_type": "code",
   "execution_count": 22,
   "id": "6fb15ded",
   "metadata": {},
   "outputs": [
    {
     "name": "stderr",
     "output_type": "stream",
     "text": [
      "C:\\Users\\hp\\AppData\\Local\\Temp\\ipykernel_7576\\2264280283.py:2: FutureWarning: The default value of regex will change from True to False in a future version.\n",
      "  df['price_string_unf']= df['price_string_unf'].str.replace('248.00104.50 - 248.00', '248.00')\n"
     ]
    }
   ],
   "source": [
    "# replace 248.00104.50 - 248.00 with 248.00\n",
    "df['price_string_unf']= df['price_string_unf'].str.replace('248.00104.50 - 248.00', '248.00')"
   ]
  },
  {
   "cell_type": "code",
   "execution_count": 23,
   "id": "22eeac2d",
   "metadata": {},
   "outputs": [
    {
     "name": "stderr",
     "output_type": "stream",
     "text": [
      "C:\\Users\\hp\\AppData\\Local\\Temp\\ipykernel_7576\\2925659238.py:2: FutureWarning: The default value of regex will change from True to False in a future version.\n",
      "  df['price_string_unf']= df['price_string_unf'].str.replace('Current price: 359.00', \"359.00\")\n"
     ]
    }
   ],
   "source": [
    "# replace Current price: 359.00 with 359.00\n",
    "df['price_string_unf']= df['price_string_unf'].str.replace('Current price: 359.00', \"359.00\")"
   ]
  },
  {
   "cell_type": "code",
   "execution_count": 24,
   "id": "ef9e6b7c",
   "metadata": {},
   "outputs": [
    {
     "name": "stderr",
     "output_type": "stream",
     "text": [
      "C:\\Users\\hp\\AppData\\Local\\Temp\\ipykernel_7576\\2903615054.py:2: FutureWarning: The default value of regex will change from True to False in a future version.\n",
      "  df['price_string_unf']= df['price_string_unf'].str.replace('Current price: 329.40', \"329.40\")\n"
     ]
    }
   ],
   "source": [
    "# replace Current price: 359.00 with 359.00\n",
    "df['price_string_unf']= df['price_string_unf'].str.replace('Current price: 329.40', \"329.40\")"
   ]
  },
  {
   "cell_type": "code",
   "execution_count": 25,
   "id": "ab0b083d",
   "metadata": {},
   "outputs": [
    {
     "name": "stderr",
     "output_type": "stream",
     "text": [
      "C:\\Users\\hp\\AppData\\Local\\Temp\\ipykernel_7576\\1421266874.py:2: FutureWarning: The default value of regex will change from True to False in a future version.\n",
      "  df['price_string_unf']= df['price_string_unf'].str.replace('178.0059.50', \"178.00\")\n"
     ]
    }
   ],
   "source": [
    "# replace 178.0059.50 with 178.00\n",
    "df['price_string_unf']= df['price_string_unf'].str.replace('178.0059.50', \"178.00\")"
   ]
  },
  {
   "cell_type": "code",
   "execution_count": 26,
   "id": "af0f7214",
   "metadata": {},
   "outputs": [
    {
     "name": "stderr",
     "output_type": "stream",
     "text": [
      "C:\\Users\\hp\\AppData\\Local\\Temp\\ipykernel_7576\\326299574.py:2: FutureWarning: The default value of regex will change from True to False in a future version.\n",
      "  df['price_string_unf']= df['price_string_unf'].str.replace('178.0064.50', \"178.00\")\n"
     ]
    }
   ],
   "source": [
    "# replace 178.0064.50 with 178.00\n",
    "df['price_string_unf']= df['price_string_unf'].str.replace('178.0064.50', \"178.00\")"
   ]
  },
  {
   "cell_type": "code",
   "execution_count": 27,
   "id": "4051dda6",
   "metadata": {},
   "outputs": [
    {
     "data": {
      "text/html": [
       "<div>\n",
       "<style scoped>\n",
       "    .dataframe tbody tr th:only-of-type {\n",
       "        vertical-align: middle;\n",
       "    }\n",
       "\n",
       "    .dataframe tbody tr th {\n",
       "        vertical-align: top;\n",
       "    }\n",
       "\n",
       "    .dataframe thead th {\n",
       "        text-align: right;\n",
       "    }\n",
       "</style>\n",
       "<table border=\"1\" class=\"dataframe\">\n",
       "  <thead>\n",
       "    <tr style=\"text-align: right;\">\n",
       "      <th></th>\n",
       "      <th>uuid</th>\n",
       "      <th>price_string</th>\n",
       "      <th>price_string_unf</th>\n",
       "      <th>product_type</th>\n",
       "      <th>level_1</th>\n",
       "      <th>category</th>\n",
       "    </tr>\n",
       "  </thead>\n",
       "  <tbody>\n",
       "    <tr>\n",
       "      <th>951517</th>\n",
       "      <td>ff30484a-a51c-4027-b9b7-12ee239b3a94</td>\n",
       "      <td>NaN</td>\n",
       "      <td>248.00</td>\n",
       "      <td>UGx1cyBzaXplIHdlYXI</td>\n",
       "      <td>Q29hdC9KYWNrZXQ</td>\n",
       "      <td>Q2xvdGhpbmcgYW5kIEFjY2Vzc29yaWVz</td>\n",
       "    </tr>\n",
       "    <tr>\n",
       "      <th>4987540</th>\n",
       "      <td>ff30484a-a51c-4027-b9b7-12ee239b3a94</td>\n",
       "      <td>NaN</td>\n",
       "      <td>248.00</td>\n",
       "      <td>UGx1cyBzaXplIHdlYXI</td>\n",
       "      <td>Q29hdC9KYWNrZXQ</td>\n",
       "      <td>Q2xvdGhpbmcgYW5kIEFjY2Vzc29yaWVz</td>\n",
       "    </tr>\n",
       "  </tbody>\n",
       "</table>\n",
       "</div>"
      ],
      "text/plain": [
       "                                         uuid price_string price_string_unf  \\\n",
       "951517   ff30484a-a51c-4027-b9b7-12ee239b3a94          NaN           248.00   \n",
       "4987540  ff30484a-a51c-4027-b9b7-12ee239b3a94          NaN           248.00   \n",
       "\n",
       "                product_type          level_1  \\\n",
       "951517   UGx1cyBzaXplIHdlYXI  Q29hdC9KYWNrZXQ   \n",
       "4987540  UGx1cyBzaXplIHdlYXI  Q29hdC9KYWNrZXQ   \n",
       "\n",
       "                                 category  \n",
       "951517   Q2xvdGhpbmcgYW5kIEFjY2Vzc29yaWVz  \n",
       "4987540  Q2xvdGhpbmcgYW5kIEFjY2Vzc29yaWVz  "
      ]
     },
     "execution_count": 27,
     "metadata": {},
     "output_type": "execute_result"
    }
   ],
   "source": [
    "# checking that we have replaced by extracting random samples from the dataframe. \n",
    "df[df['price_string_unf']=='248.00'].sample(n=2)"
   ]
  },
  {
   "cell_type": "code",
   "execution_count": 28,
   "id": "79eda69e",
   "metadata": {},
   "outputs": [
    {
     "data": {
      "text/html": [
       "<div>\n",
       "<style scoped>\n",
       "    .dataframe tbody tr th:only-of-type {\n",
       "        vertical-align: middle;\n",
       "    }\n",
       "\n",
       "    .dataframe tbody tr th {\n",
       "        vertical-align: top;\n",
       "    }\n",
       "\n",
       "    .dataframe thead th {\n",
       "        text-align: right;\n",
       "    }\n",
       "</style>\n",
       "<table border=\"1\" class=\"dataframe\">\n",
       "  <thead>\n",
       "    <tr style=\"text-align: right;\">\n",
       "      <th></th>\n",
       "      <th>uuid</th>\n",
       "      <th>price_string</th>\n",
       "      <th>price_string_unf</th>\n",
       "      <th>product_type</th>\n",
       "      <th>level_1</th>\n",
       "      <th>category</th>\n",
       "    </tr>\n",
       "  </thead>\n",
       "  <tbody>\n",
       "    <tr>\n",
       "      <th>7932718</th>\n",
       "      <td>ce5f2b6d-06a8-4231-b358-835905a314fa</td>\n",
       "      <td>NaN</td>\n",
       "      <td>138.00</td>\n",
       "      <td>UGx1cyBzaXplIHdlYXIgc2tpcnQ</td>\n",
       "      <td>U2tpcnQ</td>\n",
       "      <td>Q2xvdGhpbmcgYW5kIEFjY2Vzc29yaWVz</td>\n",
       "    </tr>\n",
       "    <tr>\n",
       "      <th>9626609</th>\n",
       "      <td>ce5f2b6d-06a8-4231-b358-835905a314fa</td>\n",
       "      <td>NaN</td>\n",
       "      <td>138.00</td>\n",
       "      <td>UGx1cyBzaXplIHdlYXIgc2tpcnQ</td>\n",
       "      <td>U2tpcnQ</td>\n",
       "      <td>Q2xvdGhpbmcgYW5kIEFjY2Vzc29yaWVz</td>\n",
       "    </tr>\n",
       "  </tbody>\n",
       "</table>\n",
       "</div>"
      ],
      "text/plain": [
       "                                         uuid price_string price_string_unf  \\\n",
       "7932718  ce5f2b6d-06a8-4231-b358-835905a314fa          NaN           138.00   \n",
       "9626609  ce5f2b6d-06a8-4231-b358-835905a314fa          NaN           138.00   \n",
       "\n",
       "                        product_type  level_1  \\\n",
       "7932718  UGx1cyBzaXplIHdlYXIgc2tpcnQ  U2tpcnQ   \n",
       "9626609  UGx1cyBzaXplIHdlYXIgc2tpcnQ  U2tpcnQ   \n",
       "\n",
       "                                 category  \n",
       "7932718  Q2xvdGhpbmcgYW5kIEFjY2Vzc29yaWVz  \n",
       "9626609  Q2xvdGhpbmcgYW5kIEFjY2Vzc29yaWVz  "
      ]
     },
     "execution_count": 28,
     "metadata": {},
     "output_type": "execute_result"
    }
   ],
   "source": [
    "# let's take one mre example of using sample in dataframe\n",
    "df[df['price_string_unf']=='138.00'].sample(n=2)"
   ]
  },
  {
   "cell_type": "code",
   "execution_count": 29,
   "id": "e6733e61",
   "metadata": {},
   "outputs": [],
   "source": [
    "# format the price as '$' prefix and upto two decimal places.\n",
    "df['price_string_unf'] = df['price_string_unf'].astype('float').apply('${0:.2f}'.format)"
   ]
  },
  {
   "cell_type": "code",
   "execution_count": 30,
   "id": "1c159f32",
   "metadata": {},
   "outputs": [
    {
     "data": {
      "text/plain": [
       "$nan       13370000\n",
       "$6.75         30000\n",
       "$49.00        20000\n",
       "$85.00        20000\n",
       "$178.00       20000\n",
       "$11.99        20000\n",
       "$10.00        10000\n",
       "$198.00       10000\n",
       "$52.00        10000\n",
       "$80.00        10000\n",
       "$50.00        10000\n",
       "$138.00       10000\n",
       "$25.00        10000\n",
       "$29.00        10000\n",
       "$95.00        10000\n",
       "$99.00        10000\n",
       "$359.00       10000\n",
       "$329.40       10000\n",
       "$248.00       10000\n",
       "$24.00        10000\n",
       "$41.00        10000\n",
       "$619.00       10000\n",
       "$459.99       10000\n",
       "$18.95        10000\n",
       "$15.00        10000\n",
       "$30.00        10000\n",
       "Name: price_string_unf, dtype: int64"
      ]
     },
     "execution_count": 30,
     "metadata": {},
     "output_type": "execute_result"
    }
   ],
   "source": [
    "# check if the data is properly formatted\n",
    "df['price_string_unf'].value_counts()"
   ]
  },
  {
   "cell_type": "code",
   "execution_count": 31,
   "id": "90f0e274",
   "metadata": {},
   "outputs": [],
   "source": [
    "# we have saved nul values as $nan\n",
    "# therefore replace $nan with null values\n",
    "df['price_string_unf'] = df['price_string_unf'].astype('string').replace('$nan',np.nan)"
   ]
  },
  {
   "cell_type": "code",
   "execution_count": 32,
   "id": "223a2195",
   "metadata": {},
   "outputs": [
    {
     "data": {
      "text/plain": [
       "$6.75      30000\n",
       "$85.00     20000\n",
       "$178.00    20000\n",
       "$11.99     20000\n",
       "$49.00     20000\n",
       "$10.00     10000\n",
       "$15.00     10000\n",
       "$18.95     10000\n",
       "$459.99    10000\n",
       "$619.00    10000\n",
       "$41.00     10000\n",
       "$24.00     10000\n",
       "$248.00    10000\n",
       "$329.40    10000\n",
       "$25.00     10000\n",
       "$99.00     10000\n",
       "$29.00     10000\n",
       "$138.00    10000\n",
       "$50.00     10000\n",
       "$80.00     10000\n",
       "$52.00     10000\n",
       "$198.00    10000\n",
       "$95.00     10000\n",
       "$359.00    10000\n",
       "$30.00     10000\n",
       "Name: price_string_unf, dtype: Int64"
      ]
     },
     "execution_count": 32,
     "metadata": {},
     "output_type": "execute_result"
    }
   ],
   "source": [
    "df['price_string_unf'].value_counts()"
   ]
  },
  {
   "cell_type": "code",
   "execution_count": 33,
   "id": "664d88e1",
   "metadata": {},
   "outputs": [],
   "source": [
    "# fill null values in price_string column\n",
    "# where the price_string_unf is not null.\n",
    "df.price_string.fillna(df.price_string_unf, inplace=True)"
   ]
  },
  {
   "cell_type": "code",
   "execution_count": 34,
   "id": "bb0c441b",
   "metadata": {},
   "outputs": [
    {
     "data": {
      "text/plain": [
       "Text(0.5, 1.0, 'Number of product types with and without prices')"
      ]
     },
     "execution_count": 34,
     "metadata": {},
     "output_type": "execute_result"
    },
    {
     "data": {
      "image/png": "[encoded data removed]",
      "text/plain": [
       "<Figure size 432x288 with 1 Axes>"
      ]
     },
     "metadata": {
      "needs_background": "light"
     },
     "output_type": "display_data"
    }
   ],
   "source": [
    "# plotting graph of with prices and without prices\n",
    "count_values = df['price_string'].isna().value_counts().values\n",
    "\n",
    "sns.barplot(x=['Without prices','With prices'], y=count_values , palette = 'rocket')\n",
    "plt.ylabel('Count of Prices')\n",
    "plt.title(\"Number of product types with and without prices\")"
   ]
  },
  {
   "cell_type": "code",
   "execution_count": 35,
   "id": "284e6e11",
   "metadata": {},
   "outputs": [
    {
     "data": {
      "text/plain": [
       "U2NydWJzIGFuZCBjbGVhbmluZyBjbG90aHM                       200000\n",
       "V29tZW5zIHN3aW13ZWFy                                      190000\n",
       "V29tZW5zIHdvcmt3ZWFyLyBvZmZpY2Ugd2Vhcg                    170000\n",
       "R3VtbWllcyB2aXRhbWlucyBhbmQgbWluZXJhbHMgZm9yIGFkdWx0cw    150000\n",
       "UGxhbnQgYmFzZWQgUHJvdGVpbiBTdXBwbGVtZW50cw                150000\n",
       "                                                           ...  \n",
       "U3Vuc2NyZWVu                                               10000\n",
       "QmFieSBDcmVhbXMgYW5kIExvdGlvbnM                            10000\n",
       "bWVucyBTaGF2aW5nIEtpdA                                     10000\n",
       "bWVucyBCZWFyZCBDYXJlIEtpdA                                 10000\n",
       "QmFieSBTb2Fw                                               10000\n",
       "Name: product_type, Length: 321, dtype: int64"
      ]
     },
     "execution_count": 35,
     "metadata": {},
     "output_type": "execute_result"
    }
   ],
   "source": [
    "# unique products and thier count.\n",
    "df['product_type'].value_counts()"
   ]
  },
  {
   "cell_type": "code",
   "execution_count": 36,
   "id": "ca7d818b",
   "metadata": {},
   "outputs": [],
   "source": [
    "# locate the price string which is na\n",
    "# and find its product type and the number of products\n",
    "products = df.loc[df['price_string'].isna(),'product_type'].unique()"
   ]
  },
  {
   "cell_type": "code",
   "execution_count": 37,
   "id": "f57a7034",
   "metadata": {
    "scrolled": true
   },
   "outputs": [
    {
     "data": {
      "text/plain": [
       "array(['TGFwdG9wIENvdmVycy9CYWdz', 'QmFraW5nIEN1cHMgYW5kIE1hdHM',\n",
       "       'TmF0dXJhbCBTd2VldGVuZXJzLyBTdWdhcg',\n",
       "       'U2NydWJzIGFuZCBjbGVhbmluZyBjbG90aHM',\n",
       "       'UGx1cyBzaXplIHdlYXIgZHJlc3M', 'TWF0ZXJuaXR5IFBhZHM',\n",
       "       'RWR1Y2F0aW9uYWwgQmxvY2tzL1RveXM',\n",
       "       'UGxhbnQgYmFzZWQgUHJvdGVpbiBTdXBwbGVtZW50cw',\n",
       "       'Q2FuZGxlcy9GcmFnbmFuY2Vz', 'bWVucyBCb2R5IFNvYXAvIEJvZHl3YXNo',\n",
       "       'TGVnb3M', 'RG9sbCBob3VzZSAvIEZpZ3VyZXM', 'UGV0IGNvbGxhcnM',\n",
       "       'TmF0dXJhbCBQaWdtZW50cyA', 'UG9wY29ybg', 'U2F1Y2U',\n",
       "       'VGhlcm1vc3RhdHM',\n",
       "       'UHJvZHVjZSBCYWdzIGFuZCBHcm9jZXJ5IFRvdGUgQmFncw',\n",
       "       'U2xlZXAgc2hvcnRz', 'RXllIG1hc2s', 'V29tZW5zIHN3aW13ZWFy',\n",
       "       'UGlsbG93Y2FzZXM', 'R3Jhbm9sYSBCYXJz', 'V29tZW5zIFBhbnRz',\n",
       "       'QmFieSBXaXBlcw', 'RmxvdXI', 'SnVtcHN1aXRzL092ZXJhbGw',\n",
       "       'U2xlZXAgRHJlc3M', 'TGV0dGVyIFZpdGFtaW5z',\n",
       "       'Q29uZGl0aW9uZXIgSGFpcg', 'Rm9vZCBTdG9yYWdl',\n",
       "       'TnV0cyAtIEFsbW9uZHM', 'UHJlZ25hbmN5IHZpdGFtaW5z',\n",
       "       'cGV0IEJsYW5rZXQ', 'T21lZ2EzIGNhcHN1bGVz',\n",
       "       'UGV0IHBvb3AgYmFncyB3aXRoIGRpc3BlbnNlcnM', 'QWlycG9kIENhc2Vz',\n",
       "       'TWluZXJhbCBTdXBwbGVtZW50cw', 'SGFuZCBTb2Fw', 'Q2FuZHk',\n",
       "       'Q2hpYSBTZWVkcw', 'Q29mZmVlIEJlYW5z', 'd29tZW5zIHN3ZWF0ZXJz',\n",
       "       'UGxheWluZyBDYXJkcw',\n",
       "       'R3VtbWllcyB2aXRhbWlucyBhbmQgbWluZXJhbHMgZm9yIGtpZHM',\n",
       "       'Q2hlZWsgbWFrZSB1cA', 'UGV0IEZvb2Q', 'V29ya291dCBMZWdnaW5ncw',\n",
       "       'TnVyc2luZyBQYWRz', 'TG9hZmVycy8gT3hmb3Jkcw',\n",
       "       'U2luZ2xlIFVzZSBEaXNwb3NhYmxlcw', 'TWVucyBQYW50cw',\n",
       "       'TnV0cyAtIENhc2hld3M', 'VG9vdGhicnVzaA', 'TWF0ZXJuaXR5IFBhbnRz',\n",
       "       'T3JnYW5pYyBCYWJ5IEZvb2Q', 'SW50aW1hdGUgd2Vhcg',\n",
       "       'TWVucyB3b3Jrd2Vhci8gb2ZmaWNlIHdlYXI', 'U2VydW1z', 'UGlsbG93cw',\n",
       "       'TGlnaHQgQnVsYnM', 'QmFieSBNYXR0cmVzc2Vz', 'RXllIGxpbmVy',\n",
       "       'UG93ZXIgQmFua3MgLSBTb2xhciBQb3dlcmVk', 'TW9wIFBhZHM',\n",
       "       'UGx1cyBzaXplIHdlYXI', 'UGV0IFRyZWF0cw', 'VGVh', 'SG91c2UgUGFpbnQ',\n",
       "       'TGVhcm5pbmcgVG95cw', 'RmxheCBTZWVkcw', 'TGF1bmRyeSBEZXRlcmdlbnRz',\n",
       "       'TnV0IEJ1dHRlcnM', 'RGVodW1pZGlmaWVycw', 'U3BpY2Vz', 'Q29va2llcw',\n",
       "       'V29tZW5zIHdvcmt3ZWFyLyBvZmZpY2Ugd2Vhcg', 'TWVucyBUc2hpcnRz',\n",
       "       'SGFpciBTZXJ1bQ', 'U2Fsc2E',\n",
       "       'UGV0IGRvZyBJbW11bml0eSBzdXBwbGVtZW50cw', 'Qm9keXdhc2g',\n",
       "       'VGFibGV0IENvdmVycw', 'V29tZW5zIFNoaXJ0cw', 'QmxvY2sgVG95cw',\n",
       "       'QmFja3BhY2s', 'RHJlc3Nlcw', 'UGhvbmUgQ292ZXJz',\n",
       "       'Qm9keSBMb3Rpb25zLyBNb2lzdHVyaXplcnM',\n",
       "       'cGV0IFN0YWluIGFuZCBvZG9yIGVsaW1pbmF0b3I',\n",
       "       'UEVUIFNUQUlOIFJFTU9WRVIvQ0xFQU5FUlM', 'QmFieSBUb3lz',\n",
       "       'UHVtcGtpbiBTZWVkcw', 'QWxsIFB1cnBvc2UgQ2xlYW5lcnM', 'RXllIE1hc2s',\n",
       "       'UGxhdGVzL1V0ZW5zaWxzL0N1dGxlcnk',\n",
       "       'U29sYXItUG93ZXJlZCBGbGFzaGxpZ2h0', 'Q2hpcHM',\n",
       "       'S2l0Y2hlbiBTaW5rIEZhdWNldHM', 'RG91Z2ggSmFy', 'TW9iaWxlcw',\n",
       "       'QmF0aCBTYWx0cw', 'U21hcnR3YXRjaCBzdHJhcHM',\n",
       "       'TWF0ZXJuaXR5IFRzaGlydA', 'U3R1ZmZlZCBBbmltYWxzIFRveXM',\n",
       "       'SW5zdGFudCBOb29kbGVz', 'U2tpcnRz', 'UG93ZXIgQWRhcHRlcnM',\n",
       "       'QnJ1c2hlcw',\n",
       "       'R3VtbWllcyB2aXRhbWlucyBhbmQgbWluZXJhbHMgZm9yIGFkdWx0cw',\n",
       "       'bWVucyBXYWxsZXQ', 'TXVsdGl2aXRhbWlucw', 'VmVoaWNsZSBUb3lz',\n",
       "       'TWVucyBTaGlydHM', 'UGFudHkgTGluZXJz',\n",
       "       'UGV0IFNoYW1wb28vQ29uZGl0aW9uZXI', 'VU5PIHBsYXlpbmcgY2FyZHM',\n",
       "       'Qm90dGxlZCBXYXRlcg', 'RmFjZSBPaWxz', 'V2VpZ2h0IFBsYXRlcw',\n",
       "       'SGFybmVzc2Vz', 'UGV0IFByb2Jpb3RpY3M', 'U3VyZiBzdWl0cw',\n",
       "       'VmVnYW4gU3Vuc2NyZWVu', 'TGVhc2hlcyBwZXRz',\n",
       "       'VG9kZGxlcnMvbmV3Ym9ybiBiYWJpZXM',\n",
       "       'R2FyYmFnZSAvIFRyYXNoYmFncyAvIFdhc3RlIGJhZ3M', 'RmFjZSBtYWtlIHVw',\n",
       "       'QmFieSBEcmVzc2VyIGFuZCBDaGFuZ2luZyBzdGF0aW9u',\n",
       "       'SmV3ZWxlcnkga2l0cy9iZWFkcw', 'RmFjaWFsIFRvbmVycw', 'Qm90dGxlcw',\n",
       "       'V29tZW5zIFVuZGVyZ2FybWVudHM', 'QmxhbmtldHM',\n",
       "       'bWVucyBPdXRlcndlYXI', 'Q0FUIExJVFRFUg',\n",
       "       'UGV0IFBvdHR5L1BlZSBwYWRz',\n",
       "       'TWVuc3RydWFsIEN1cC9TYW5pdGFyeSBOYXBraW5zLyBUYW1wb25z', 'UmljZQ',\n",
       "       'U2hhbXBvbyBmb3IgYmFieQ', 'RGlhcGVycw', 'Q29va2luZyBPaWw',\n",
       "       'UGV0IERlbnRhbCBjYXJl', 'U2Npc3NvcnM', 'TnV0cyAtIHBlY2Fucw',\n",
       "       'Q3JlYW1lcnM', 'TGlwc3RpY2svIExpcCBjb2xvcg',\n",
       "       'VmFjdXVtIENsZWFuZXJz', 'RHV2ZXQgY292ZXJz', 'U2hvcnRz',\n",
       "       'RmFjZSBNYXNr', 'U2FuaXRhcnkgTmFwa2lucy8gVGFtcG9ucw',\n",
       "       'V29tZW5zIFNob3VsZGVyIGJhZw', 'UGV0IEZsZWEgYW5kIFRpY2sgY2FyZQ',\n",
       "       'UGhvbmUgQ2hhcmdlcnM', 'U3RhaW4gYW5kIG9kb3IgZWxpbWluYXRvcg',\n",
       "       'S2lkcyBDcmVhbXMgYW5kIExvdGlvbnM', 'QnVycCBDbG90aHMvQmlicw',\n",
       "       'V2hleSBQcm90ZWluIFN1cHBsZW1lbnRz', 'T21lZ2Egb2ls', 'UGV0IFdpcGVz',\n",
       "       'QmFieSBGb3JtdWxh', 'U25lYWtlcnMgc2hvZXM', 'U3lydXBz',\n",
       "       'cGV0IEJlZC9NYXR0cmVzc2Vz', 'V2FsbCBkZWNvcg', 'QmFraW5n',\n",
       "       'TWVucyBKYWNrZXQ', 'U2FuZGFscy9TbGlwIG9ucy8gRmxhdHM',\n",
       "       'VG9pbGV0IHBhcGVy', 'bWVucyBzd2VhdGVycw', 'Q3JvY2hldC9Lbml0dGluZw',\n",
       "       'Um9sbGluZyBQaW4', 'UGFwZXIgVG93ZWwgQWx0ZXJuYXRpdmVz',\n",
       "       'RG9nIHRveXMgcGV0', 'QmFyIFNvYXAvIEJvZHl3YXNo', 'RGVudGFsIEZsb3Nz',\n",
       "       'RGVvZG9yYW50cyBmb3Igd29tZW4', 'TW91dGggd2FzaA', 'UGFjaWZpZXJz',\n",
       "       'TWF0ZXJuaXR5IERyZXNz', 'V29tZW5zIFRzaGlydHM',\n",
       "       'VG9pbGV0IENsZWFuZXJz', 'U2hvd2VyaGVhZHM',\n",
       "       'UGV0IGVhciBjbGVhbmVycw', 'VG90ZSBiYWdz', 'TWF0ZXJuaXR5IFdlYXI',\n",
       "       'U3RvcmFnZQ', 'UGlsbG93IGNvdmVycw', 'Q2F0IHRveXMgcGV0',\n",
       "       'V29tZW5zIFBhbnRzL0plYW5z', 'TW9pc3R1cml6ZXJz', 'UGV0IENCRA',\n",
       "       'TmFwa2lucyBhbmQgUGFwZXIgVG93ZWxz', 'd29tZW5zIFdhbGxldA',\n",
       "       'QXJ0IEJydXNoZXM', 'UHVmZmVkIFNuYWNrcw', 'U3BvcnRzIEJyYQ',\n",
       "       'T2F0bWVhbA', 'RmFjaWFsIENsZWFuc2Vycw', 'RXllIGJyb3c',\n",
       "       'V29tZW5zIEphY2tldHM', 'U2hhbXBvbw',\n",
       "       'RGlzcGVuc2VycyBhbmQgU3ByYXkgYm90dGxlcw',\n",
       "       'V2ludGVyIEFjY2Vzc29yaWVz', 'RGlzaHdhc2hpbmc',\n",
       "       'SW50aW1hdGUgV2lwZXM', 'SG9sZGVycy9TdGFuZHM', 'QmFieSBDcmlicw',\n",
       "       'TnV0cyAtIHdhbG51dHM', 'R3ltIGdlYXI', 'QnJlYXN0IFB1bXBz',\n",
       "       'QmF0aHJvb20gU2luayBGYXVjZXRz', 'RXllIGxhc2hlcw', 'Um9vbSBkZWNvcg',\n",
       "       'Q2xvdGggRmFjZW1hc2tz', 'UGVucw',\n",
       "       'V29tZW5zIENyb3NzYm9keSBTbGluZyBCYWc', 'U2NyZWVuIENvdmVycw',\n",
       "       'VGFua3M', 'd29tZW5zIE91dGVyd2Vhcg',\n",
       "       'QmFieSBDcmVhbXMgYW5kIExvdGlvbnM', 'RHVtYmJlbGxz',\n",
       "       'bWVucyBTaGF2aW5nIEtpdA', 'RG91Z2ggSmFyLSBQYWNrIG9mIDY',\n",
       "       'TWVucyBTaG9ydHM', 'QmFieSBib2R5IHdhc2g',\n",
       "       'TGFjdG9zZSBmcmVlIEJhYnkgRm9ybXVsYQ', 'R2FyYmFnZS8gVHJhc2ggQmFncw',\n",
       "       'RW5lcmd5IERyaW5rcw',\n",
       "       'UGV0IGRvZy9jYXQgSW1tdW5pdHkgc3VwcGxlbWVudHM', 'SG9uZXk',\n",
       "       'WW9nYSBBY2Nlc3Nvcmllcy8gR2Vhcg', 'TGlwIEJhbG0',\n",
       "       'Q29va2luZyBVdGVuc2lscw', 'TWVucyBzd2ltd2Vhcg',\n",
       "       'U3Ryb2xsZXJzL0NhciBzZWF0cy8gQWNjZXNzb3JpZXM', 'QmVkc2hlZXRz',\n",
       "       'U2xlZXAgVCdz', 'TW9wcyBhbmQgYnJvb21z', 'TXVsZXMgJiBmbGF0cw',\n",
       "       'R2FyYmFnZSAvIFRyYXNoIGJhZ3MgLyBXYXN0ZSBiYWdz',\n",
       "       'ZGVvZG9yYW50cyBmb3IgbWVu', 'QmFieSBCb3R0bGVz',\n",
       "       'Q29mZmVlIEZpbHRlcnM', 'UnVncw',\n",
       "       'UGV0IFdhc3RlIGJhZ3MvUG9vcCBiYWdz', 'QmxlbmRlcg', 'R2x1ZQ',\n",
       "       'TGFwdG9wcw', 'VGFwZQ', 'Q2x1dGNo', 'Qm9vdHM',\n",
       "       'UGV0IHBvdHR5L1BlZSBwYWRz', 'bGFjdG9zZSBmcmVlIEJhYnkgRm9ybXVsYQ',\n",
       "       'RWF0aW5nIFV0ZW5zaWxzL0N1dGxlcnk', 'TGlwIE1hc2s',\n",
       "       'TWF0ZXJuaXR5IFNsZWVwd2Vhcg', 'VGFwZXM', 'R2lmdCBwYXBlcg',\n",
       "       'VG9vdGhwYXN0ZQ', 'Tm90ZXBhZHM',\n",
       "       'UGV0IE9kb3IgRWxpbWluYXRvciBDb25jZW50cmF0ZQ', 'VG9hc3RlcnM',\n",
       "       'QWlyIFB1cmlmaWVycw', 'UGx1cyBzaXplIHdlYXIgc2tpcnQ',\n",
       "       'TWVucyBVbmRlcndlYXI', 'V29tZW5zIHB1cnNlL3NhdGNoZWw',\n",
       "       'RG91Z2ggSmFyLSBQYWNrIG9mIDM', 'SGFpciBNYXNrcw', 'U2tvcnQ',\n",
       "       'V29tZW4ncyBzd2ltd2Vhcg', 'U3RldGNoYm9va3MsIENhcmRzdG9ja3M',\n",
       "       'V29tZW5zIEhhbmRiYWc', 'RW52ZWxvcGVz', 'TGlwIEdsb3Nz',\n",
       "       'UmVmcmlnZXJhdG9yIFdhdGVyIEZpbHRlcg', 'WW9nYSBNYXRz'], dtype=object)"
      ]
     },
     "execution_count": 37,
     "metadata": {},
     "output_type": "execute_result"
    }
   ],
   "source": [
    "# checkout few for reference\n",
    "products"
   ]
  },
  {
   "cell_type": "code",
   "execution_count": 38,
   "id": "eaa768a8",
   "metadata": {},
   "outputs": [
    {
     "data": {
      "text/html": [
       "<div>\n",
       "<style scoped>\n",
       "    .dataframe tbody tr th:only-of-type {\n",
       "        vertical-align: middle;\n",
       "    }\n",
       "\n",
       "    .dataframe tbody tr th {\n",
       "        vertical-align: top;\n",
       "    }\n",
       "\n",
       "    .dataframe thead th {\n",
       "        text-align: right;\n",
       "    }\n",
       "</style>\n",
       "<table border=\"1\" class=\"dataframe\">\n",
       "  <thead>\n",
       "    <tr style=\"text-align: right;\">\n",
       "      <th></th>\n",
       "      <th>product_type</th>\n",
       "    </tr>\n",
       "  </thead>\n",
       "  <tbody>\n",
       "    <tr>\n",
       "      <th>0</th>\n",
       "      <td>TGFwdG9wIENvdmVycy9CYWdz</td>\n",
       "    </tr>\n",
       "    <tr>\n",
       "      <th>1</th>\n",
       "      <td>QmFraW5nIEN1cHMgYW5kIE1hdHM</td>\n",
       "    </tr>\n",
       "    <tr>\n",
       "      <th>2</th>\n",
       "      <td>TmF0dXJhbCBTd2VldGVuZXJzLyBTdWdhcg</td>\n",
       "    </tr>\n",
       "    <tr>\n",
       "      <th>3</th>\n",
       "      <td>U2NydWJzIGFuZCBjbGVhbmluZyBjbG90aHM</td>\n",
       "    </tr>\n",
       "    <tr>\n",
       "      <th>4</th>\n",
       "      <td>UGx1cyBzaXplIHdlYXIgZHJlc3M</td>\n",
       "    </tr>\n",
       "    <tr>\n",
       "      <th>5</th>\n",
       "      <td>TWF0ZXJuaXR5IFBhZHM</td>\n",
       "    </tr>\n",
       "    <tr>\n",
       "      <th>6</th>\n",
       "      <td>RWR1Y2F0aW9uYWwgQmxvY2tzL1RveXM</td>\n",
       "    </tr>\n",
       "    <tr>\n",
       "      <th>7</th>\n",
       "      <td>UGxhbnQgYmFzZWQgUHJvdGVpbiBTdXBwbGVtZW50cw</td>\n",
       "    </tr>\n",
       "    <tr>\n",
       "      <th>8</th>\n",
       "      <td>Q2FuZGxlcy9GcmFnbmFuY2Vz</td>\n",
       "    </tr>\n",
       "    <tr>\n",
       "      <th>9</th>\n",
       "      <td>bWVucyBCb2R5IFNvYXAvIEJvZHl3YXNo</td>\n",
       "    </tr>\n",
       "  </tbody>\n",
       "</table>\n",
       "</div>"
      ],
      "text/plain": [
       "                                 product_type\n",
       "0                    TGFwdG9wIENvdmVycy9CYWdz\n",
       "1                 QmFraW5nIEN1cHMgYW5kIE1hdHM\n",
       "2          TmF0dXJhbCBTd2VldGVuZXJzLyBTdWdhcg\n",
       "3         U2NydWJzIGFuZCBjbGVhbmluZyBjbG90aHM\n",
       "4                 UGx1cyBzaXplIHdlYXIgZHJlc3M\n",
       "5                         TWF0ZXJuaXR5IFBhZHM\n",
       "6             RWR1Y2F0aW9uYWwgQmxvY2tzL1RveXM\n",
       "7  UGxhbnQgYmFzZWQgUHJvdGVpbiBTdXBwbGVtZW50cw\n",
       "8                    Q2FuZGxlcy9GcmFnbmFuY2Vz\n",
       "9            bWVucyBCb2R5IFNvYXAvIEJvZHl3YXNo"
      ]
     },
     "execution_count": 38,
     "metadata": {},
     "output_type": "execute_result"
    }
   ],
   "source": [
    "# convert the caculated products array into dataframe\n",
    "product_without_prices = pd.DataFrame(products)\n",
    "product_without_prices.columns = ['product_type'] # change column names\n",
    "product_without_prices.head(10)"
   ]
  },
  {
   "cell_type": "code",
   "execution_count": 39,
   "id": "f1c9ecce",
   "metadata": {},
   "outputs": [
    {
     "data": {
      "text/plain": [
       "(278, 1)"
      ]
     },
     "execution_count": 39,
     "metadata": {},
     "output_type": "execute_result"
    }
   ],
   "source": [
    "product_without_prices.shape"
   ]
  },
  {
   "cell_type": "markdown",
   "id": "285e5f36",
   "metadata": {},
   "source": [
    "**Out of 321 products total 278 products are there in the dataset without prices.**"
   ]
  },
  {
   "cell_type": "markdown",
   "id": "6587eac6",
   "metadata": {},
   "source": [
    "# 2. Count of products without prices and with prices in each Product Type, Category, Level 1"
   ]
  },
  {
   "cell_type": "markdown",
   "id": "aaa7c012",
   "metadata": {},
   "source": [
    "## 2.1 Count of products with prices"
   ]
  },
  {
   "cell_type": "code",
   "execution_count": 40,
   "id": "7c3c3a1f",
   "metadata": {},
   "outputs": [],
   "source": [
    "# locate price string column and count product type where price is not null.\n",
    "# nameing this variable counts_pp\n",
    "counts_pp = df.loc[df['price_string'].notna(),'product_type'].value_counts()"
   ]
  },
  {
   "cell_type": "code",
   "execution_count": 41,
   "id": "68a78ed5",
   "metadata": {},
   "outputs": [
    {
     "data": {
      "text/plain": [
       "U2NydWJzIGFuZCBjbGVhbmluZyBjbG90aHM        140000\n",
       "d29tZW5zIE91dGVyd2Vhcg                     130000\n",
       "Q29va2luZyBVdGVuc2lscw                     110000\n",
       "WW9nYSBBY2Nlc3Nvcmllcy8gR2Vhcg              90000\n",
       "RmFjaWFsIENsZWFuc2Vycw                      90000\n",
       "                                            ...  \n",
       "TWVjaGFuaWNhbCBQZW5jaWxz                    10000\n",
       "UGV0IHBvb3AgYmFncyB3aXRoIGRpc3BlbnNlcnM     10000\n",
       "UnVncw                                      10000\n",
       "SnVtcHN1aXRzL092ZXJhbGw                     10000\n",
       "QmFieSBTb2Fw                                10000\n",
       "Name: product_type, Length: 210, dtype: int64"
      ]
     },
     "execution_count": 41,
     "metadata": {},
     "output_type": "execute_result"
    }
   ],
   "source": [
    "counts_pp"
   ]
  },
  {
   "cell_type": "code",
   "execution_count": 42,
   "id": "5c22624e",
   "metadata": {},
   "outputs": [
    {
     "data": {
      "text/html": [
       "<div>\n",
       "<style scoped>\n",
       "    .dataframe tbody tr th:only-of-type {\n",
       "        vertical-align: middle;\n",
       "    }\n",
       "\n",
       "    .dataframe tbody tr th {\n",
       "        vertical-align: top;\n",
       "    }\n",
       "\n",
       "    .dataframe thead th {\n",
       "        text-align: right;\n",
       "    }\n",
       "</style>\n",
       "<table border=\"1\" class=\"dataframe\">\n",
       "  <thead>\n",
       "    <tr style=\"text-align: right;\">\n",
       "      <th></th>\n",
       "      <th>product_type</th>\n",
       "      <th>counts of product with prices</th>\n",
       "    </tr>\n",
       "  </thead>\n",
       "  <tbody>\n",
       "    <tr>\n",
       "      <th>0</th>\n",
       "      <td>U2NydWJzIGFuZCBjbGVhbmluZyBjbG90aHM</td>\n",
       "      <td>140000</td>\n",
       "    </tr>\n",
       "    <tr>\n",
       "      <th>1</th>\n",
       "      <td>d29tZW5zIE91dGVyd2Vhcg</td>\n",
       "      <td>130000</td>\n",
       "    </tr>\n",
       "    <tr>\n",
       "      <th>2</th>\n",
       "      <td>Q29va2luZyBVdGVuc2lscw</td>\n",
       "      <td>110000</td>\n",
       "    </tr>\n",
       "    <tr>\n",
       "      <th>3</th>\n",
       "      <td>WW9nYSBBY2Nlc3Nvcmllcy8gR2Vhcg</td>\n",
       "      <td>90000</td>\n",
       "    </tr>\n",
       "    <tr>\n",
       "      <th>4</th>\n",
       "      <td>RmFjaWFsIENsZWFuc2Vycw</td>\n",
       "      <td>90000</td>\n",
       "    </tr>\n",
       "  </tbody>\n",
       "</table>\n",
       "</div>"
      ],
      "text/plain": [
       "                          product_type  counts of product with prices\n",
       "0  U2NydWJzIGFuZCBjbGVhbmluZyBjbG90aHM                         140000\n",
       "1               d29tZW5zIE91dGVyd2Vhcg                         130000\n",
       "2               Q29va2luZyBVdGVuc2lscw                         110000\n",
       "3       WW9nYSBBY2Nlc3Nvcmllcy8gR2Vhcg                          90000\n",
       "4               RmFjaWFsIENsZWFuc2Vycw                          90000"
      ]
     },
     "execution_count": 42,
     "metadata": {},
     "output_type": "execute_result"
    }
   ],
   "source": [
    "# convert the caculated counts_pp array into dataframe\n",
    "product_with_prices = pd.DataFrame(counts_pp)\n",
    "product_with_prices = product_with_prices.reset_index() # reset index\n",
    "product_with_prices.columns = ['product_type', 'counts of product with prices'] # change column names\n",
    "product_with_prices.head()"
   ]
  },
  {
   "cell_type": "code",
   "execution_count": 43,
   "id": "1f67a9b0",
   "metadata": {},
   "outputs": [
    {
     "data": {
      "text/plain": [
       "U3Bvb24sIEtuaWZlIGFuZCBGb3Jr       60000\n",
       "UHVmZmVyIEphY2tldA                 50000\n",
       "Q2xlYW5pbmcgY2xvdGg                50000\n",
       "TWVucyBTdHJhaWdodCBGaXQgamVhbnM    50000\n",
       "U2NydWJz                           40000\n",
       "                                   ...  \n",
       "RG9nIFdpcGVz                       10000\n",
       "TWF0ZXJuaXR5IFNraXJ0               10000\n",
       "UGlsbG93L0N1c2hpb24                10000\n",
       "TWVucyBzbmVha2Vycw                 10000\n",
       "UHVwcHkgU2hhbXBvbw                 10000\n",
       "Name: level_1, Length: 371, dtype: int64"
      ]
     },
     "execution_count": 43,
     "metadata": {},
     "output_type": "execute_result"
    }
   ],
   "source": [
    "# locate price string column and count level_1 values where price is not null.\n",
    "# nameing this variable counts_lp\n",
    "counts_lp = df.loc[df['price_string'].notna(),'level_1'].value_counts()\n",
    "counts_lp"
   ]
  },
  {
   "cell_type": "code",
   "execution_count": 44,
   "id": "f808ef00",
   "metadata": {},
   "outputs": [
    {
     "data": {
      "text/html": [
       "<div>\n",
       "<style scoped>\n",
       "    .dataframe tbody tr th:only-of-type {\n",
       "        vertical-align: middle;\n",
       "    }\n",
       "\n",
       "    .dataframe tbody tr th {\n",
       "        vertical-align: top;\n",
       "    }\n",
       "\n",
       "    .dataframe thead th {\n",
       "        text-align: right;\n",
       "    }\n",
       "</style>\n",
       "<table border=\"1\" class=\"dataframe\">\n",
       "  <thead>\n",
       "    <tr style=\"text-align: right;\">\n",
       "      <th></th>\n",
       "      <th>level_1</th>\n",
       "      <th>counts of product with prices</th>\n",
       "    </tr>\n",
       "  </thead>\n",
       "  <tbody>\n",
       "    <tr>\n",
       "      <th>0</th>\n",
       "      <td>U3Bvb24sIEtuaWZlIGFuZCBGb3Jr</td>\n",
       "      <td>60000</td>\n",
       "    </tr>\n",
       "    <tr>\n",
       "      <th>1</th>\n",
       "      <td>UHVmZmVyIEphY2tldA</td>\n",
       "      <td>50000</td>\n",
       "    </tr>\n",
       "    <tr>\n",
       "      <th>2</th>\n",
       "      <td>Q2xlYW5pbmcgY2xvdGg</td>\n",
       "      <td>50000</td>\n",
       "    </tr>\n",
       "    <tr>\n",
       "      <th>3</th>\n",
       "      <td>TWVucyBTdHJhaWdodCBGaXQgamVhbnM</td>\n",
       "      <td>50000</td>\n",
       "    </tr>\n",
       "    <tr>\n",
       "      <th>4</th>\n",
       "      <td>U2NydWJz</td>\n",
       "      <td>40000</td>\n",
       "    </tr>\n",
       "  </tbody>\n",
       "</table>\n",
       "</div>"
      ],
      "text/plain": [
       "                           level_1  counts of product with prices\n",
       "0     U3Bvb24sIEtuaWZlIGFuZCBGb3Jr                          60000\n",
       "1               UHVmZmVyIEphY2tldA                          50000\n",
       "2              Q2xlYW5pbmcgY2xvdGg                          50000\n",
       "3  TWVucyBTdHJhaWdodCBGaXQgamVhbnM                          50000\n",
       "4                         U2NydWJz                          40000"
      ]
     },
     "execution_count": 44,
     "metadata": {},
     "output_type": "execute_result"
    }
   ],
   "source": [
    "# convert counts_lp into dataframe\n",
    "level_with_prices = pd.DataFrame(counts_lp)\n",
    "level_with_prices = level_with_prices.reset_index() # reset index\n",
    "level_with_prices.columns = ['level_1', 'counts of product with prices'] # change column names\n",
    "level_with_prices.head()"
   ]
  },
  {
   "cell_type": "code",
   "execution_count": 45,
   "id": "bbf10ebb",
   "metadata": {},
   "outputs": [
    {
     "data": {
      "text/plain": [
       "Q2xvdGhpbmcgYW5kIEFjY2Vzc29yaWVz       1910000\n",
       "YmVhdXR5IGFuZCBwZXJzb25hbCBjYXJl        750000\n",
       "SG91c2Vob2xkIGFuZCBDbGVhbmluZw          700000\n",
       "Z3JvY2VyaWVz                            480000\n",
       "a2l0Y2hpbmcgYW5kIGRpbmluZw              340000\n",
       "SGVhbHRo                                290000\n",
       "VG95cyBhbmQgR2FtZXM                     190000\n",
       "QXJ0IHN1cHBsaWVz                        190000\n",
       "VG9vbHMgYW5kIGhvbWUgaW1wcm92ZW1lbnQ     190000\n",
       "cGV0IHN1cHBsaWVz                        160000\n",
       "b2ZmaWNlIHByb2R1Y3Rz                    150000\n",
       "QmFieWNhcmU                             110000\n",
       "RWxlY3Ryb25pY3M                         110000\n",
       "Name: category, dtype: int64"
      ]
     },
     "execution_count": 45,
     "metadata": {},
     "output_type": "execute_result"
    }
   ],
   "source": [
    "# locate price string column and count category values where price is not null.\n",
    "# nameing this variable counts_cp\n",
    "counts_cp = df.loc[df['price_string'].notna(),'category'].value_counts()\n",
    "counts_cp"
   ]
  },
  {
   "cell_type": "code",
   "execution_count": 46,
   "id": "a8c246d1",
   "metadata": {},
   "outputs": [
    {
     "data": {
      "text/html": [
       "<div>\n",
       "<style scoped>\n",
       "    .dataframe tbody tr th:only-of-type {\n",
       "        vertical-align: middle;\n",
       "    }\n",
       "\n",
       "    .dataframe tbody tr th {\n",
       "        vertical-align: top;\n",
       "    }\n",
       "\n",
       "    .dataframe thead th {\n",
       "        text-align: right;\n",
       "    }\n",
       "</style>\n",
       "<table border=\"1\" class=\"dataframe\">\n",
       "  <thead>\n",
       "    <tr style=\"text-align: right;\">\n",
       "      <th></th>\n",
       "      <th>category</th>\n",
       "      <th>counts of product with prices</th>\n",
       "    </tr>\n",
       "  </thead>\n",
       "  <tbody>\n",
       "    <tr>\n",
       "      <th>0</th>\n",
       "      <td>Q2xvdGhpbmcgYW5kIEFjY2Vzc29yaWVz</td>\n",
       "      <td>1910000</td>\n",
       "    </tr>\n",
       "    <tr>\n",
       "      <th>1</th>\n",
       "      <td>YmVhdXR5IGFuZCBwZXJzb25hbCBjYXJl</td>\n",
       "      <td>750000</td>\n",
       "    </tr>\n",
       "    <tr>\n",
       "      <th>2</th>\n",
       "      <td>SG91c2Vob2xkIGFuZCBDbGVhbmluZw</td>\n",
       "      <td>700000</td>\n",
       "    </tr>\n",
       "    <tr>\n",
       "      <th>3</th>\n",
       "      <td>Z3JvY2VyaWVz</td>\n",
       "      <td>480000</td>\n",
       "    </tr>\n",
       "    <tr>\n",
       "      <th>4</th>\n",
       "      <td>a2l0Y2hpbmcgYW5kIGRpbmluZw</td>\n",
       "      <td>340000</td>\n",
       "    </tr>\n",
       "  </tbody>\n",
       "</table>\n",
       "</div>"
      ],
      "text/plain": [
       "                           category  counts of product with prices\n",
       "0  Q2xvdGhpbmcgYW5kIEFjY2Vzc29yaWVz                        1910000\n",
       "1  YmVhdXR5IGFuZCBwZXJzb25hbCBjYXJl                         750000\n",
       "2    SG91c2Vob2xkIGFuZCBDbGVhbmluZw                         700000\n",
       "3                      Z3JvY2VyaWVz                         480000\n",
       "4        a2l0Y2hpbmcgYW5kIGRpbmluZw                         340000"
      ]
     },
     "execution_count": 46,
     "metadata": {},
     "output_type": "execute_result"
    }
   ],
   "source": [
    "# convert counts_cp into dataframe\n",
    "category_with_prices = pd.DataFrame(counts_cp)\n",
    "category_with_prices = category_with_prices.reset_index() # reset index\n",
    "category_with_prices.columns = ['category', 'counts of product with prices'] # change column names\n",
    "category_with_prices.head()"
   ]
  },
  {
   "cell_type": "markdown",
   "id": "2460e9be",
   "metadata": {},
   "source": [
    "## 2.2 Count of products without prices"
   ]
  },
  {
   "cell_type": "code",
   "execution_count": 47,
   "id": "9b7e723b",
   "metadata": {},
   "outputs": [
    {
     "data": {
      "text/html": [
       "<div>\n",
       "<style scoped>\n",
       "    .dataframe tbody tr th:only-of-type {\n",
       "        vertical-align: middle;\n",
       "    }\n",
       "\n",
       "    .dataframe tbody tr th {\n",
       "        vertical-align: top;\n",
       "    }\n",
       "\n",
       "    .dataframe thead th {\n",
       "        text-align: right;\n",
       "    }\n",
       "</style>\n",
       "<table border=\"1\" class=\"dataframe\">\n",
       "  <thead>\n",
       "    <tr style=\"text-align: right;\">\n",
       "      <th></th>\n",
       "      <th>product_type</th>\n",
       "      <th>counts of product without prices</th>\n",
       "    </tr>\n",
       "  </thead>\n",
       "  <tbody>\n",
       "    <tr>\n",
       "      <th>0</th>\n",
       "      <td>V29tZW5zIHN3aW13ZWFy</td>\n",
       "      <td>140000</td>\n",
       "    </tr>\n",
       "    <tr>\n",
       "      <th>1</th>\n",
       "      <td>V29tZW5zIHdvcmt3ZWFyLyBvZmZpY2Ugd2Vhcg</td>\n",
       "      <td>130000</td>\n",
       "    </tr>\n",
       "    <tr>\n",
       "      <th>2</th>\n",
       "      <td>VG9kZGxlcnMvbmV3Ym9ybiBiYWJpZXM</td>\n",
       "      <td>130000</td>\n",
       "    </tr>\n",
       "    <tr>\n",
       "      <th>3</th>\n",
       "      <td>VmVoaWNsZSBUb3lz</td>\n",
       "      <td>120000</td>\n",
       "    </tr>\n",
       "    <tr>\n",
       "      <th>4</th>\n",
       "      <td>TWVucyB3b3Jrd2Vhci8gb2ZmaWNlIHdlYXI</td>\n",
       "      <td>110000</td>\n",
       "    </tr>\n",
       "  </tbody>\n",
       "</table>\n",
       "</div>"
      ],
      "text/plain": [
       "                             product_type  counts of product without prices\n",
       "0                    V29tZW5zIHN3aW13ZWFy                            140000\n",
       "1  V29tZW5zIHdvcmt3ZWFyLyBvZmZpY2Ugd2Vhcg                            130000\n",
       "2         VG9kZGxlcnMvbmV3Ym9ybiBiYWJpZXM                            130000\n",
       "3                        VmVoaWNsZSBUb3lz                            120000\n",
       "4     TWVucyB3b3Jrd2Vhci8gb2ZmaWNlIHdlYXI                            110000"
      ]
     },
     "execution_count": 47,
     "metadata": {},
     "output_type": "execute_result"
    }
   ],
   "source": [
    "# locate price string column and count product type where price is null.\n",
    "# nameing this variable counts_pwp\n",
    "counts_pwp = df.loc[df['price_string'].isna(),'product_type'].value_counts()\n",
    "\n",
    "# convert the caculated value_counts array into dataframe\n",
    "product_without_prices = pd.DataFrame(counts_pwp)\n",
    "product_without_prices = product_without_prices.reset_index() # reset index\n",
    "product_without_prices.columns = ['product_type', 'counts of product without prices'] # change column names\n",
    "product_without_prices.head()"
   ]
  },
  {
   "cell_type": "code",
   "execution_count": 48,
   "id": "205ecefa",
   "metadata": {},
   "outputs": [
    {
     "data": {
      "text/html": [
       "<div>\n",
       "<style scoped>\n",
       "    .dataframe tbody tr th:only-of-type {\n",
       "        vertical-align: middle;\n",
       "    }\n",
       "\n",
       "    .dataframe tbody tr th {\n",
       "        vertical-align: top;\n",
       "    }\n",
       "\n",
       "    .dataframe thead th {\n",
       "        text-align: right;\n",
       "    }\n",
       "</style>\n",
       "<table border=\"1\" class=\"dataframe\">\n",
       "  <thead>\n",
       "    <tr style=\"text-align: right;\">\n",
       "      <th></th>\n",
       "      <th>level_1</th>\n",
       "      <th>counts of product without prices</th>\n",
       "    </tr>\n",
       "  </thead>\n",
       "  <tbody>\n",
       "    <tr>\n",
       "      <th>0</th>\n",
       "      <td>U3dlYXRzaGlydA</td>\n",
       "      <td>60000</td>\n",
       "    </tr>\n",
       "    <tr>\n",
       "      <th>1</th>\n",
       "      <td>Rm9ybWFsIFN1aXRz</td>\n",
       "      <td>60000</td>\n",
       "    </tr>\n",
       "    <tr>\n",
       "      <th>2</th>\n",
       "      <td>U29ja3M</td>\n",
       "      <td>50000</td>\n",
       "    </tr>\n",
       "    <tr>\n",
       "      <th>3</th>\n",
       "      <td>Rm9ybWFsIFBhbnRz</td>\n",
       "      <td>50000</td>\n",
       "    </tr>\n",
       "    <tr>\n",
       "      <th>4</th>\n",
       "      <td>TG9uZyBzbGVldmUgdGVl</td>\n",
       "      <td>40000</td>\n",
       "    </tr>\n",
       "  </tbody>\n",
       "</table>\n",
       "</div>"
      ],
      "text/plain": [
       "                level_1  counts of product without prices\n",
       "0        U3dlYXRzaGlydA                             60000\n",
       "1      Rm9ybWFsIFN1aXRz                             60000\n",
       "2               U29ja3M                             50000\n",
       "3      Rm9ybWFsIFBhbnRz                             50000\n",
       "4  TG9uZyBzbGVldmUgdGVl                             40000"
      ]
     },
     "execution_count": 48,
     "metadata": {},
     "output_type": "execute_result"
    }
   ],
   "source": [
    "# locate price string column and count level_1 values where price is null.\n",
    "# nameing this variable counts_lwp\n",
    "counts_lwp = df.loc[df['price_string'].isna(),'level_1'].value_counts()\n",
    "counts_lwp\n",
    "\n",
    "# convert counts_lwp into dataframe\n",
    "level_without_prices = pd.DataFrame(counts_lwp)\n",
    "level_without_prices = level_without_prices.reset_index() # reset index\n",
    "level_without_prices.columns = ['level_1', 'counts of product without prices'] # change column names\n",
    "level_without_prices.head()"
   ]
  },
  {
   "cell_type": "code",
   "execution_count": 49,
   "id": "77fc88a5",
   "metadata": {},
   "outputs": [
    {
     "data": {
      "text/html": [
       "<div>\n",
       "<style scoped>\n",
       "    .dataframe tbody tr th:only-of-type {\n",
       "        vertical-align: middle;\n",
       "    }\n",
       "\n",
       "    .dataframe tbody tr th {\n",
       "        vertical-align: top;\n",
       "    }\n",
       "\n",
       "    .dataframe thead th {\n",
       "        text-align: right;\n",
       "    }\n",
       "</style>\n",
       "<table border=\"1\" class=\"dataframe\">\n",
       "  <thead>\n",
       "    <tr style=\"text-align: right;\">\n",
       "      <th></th>\n",
       "      <th>category</th>\n",
       "      <th>counts of product without prices</th>\n",
       "    </tr>\n",
       "  </thead>\n",
       "  <tbody>\n",
       "    <tr>\n",
       "      <th>0</th>\n",
       "      <td>Q2xvdGhpbmcgYW5kIEFjY2Vzc29yaWVz</td>\n",
       "      <td>2000000</td>\n",
       "    </tr>\n",
       "    <tr>\n",
       "      <th>1</th>\n",
       "      <td>Z3JvY2VyaWVz</td>\n",
       "      <td>1130000</td>\n",
       "    </tr>\n",
       "    <tr>\n",
       "      <th>2</th>\n",
       "      <td>SG91c2Vob2xkIGFuZCBDbGVhbmluZw</td>\n",
       "      <td>870000</td>\n",
       "    </tr>\n",
       "    <tr>\n",
       "      <th>3</th>\n",
       "      <td>YmVhdXR5IGFuZCBwZXJzb25hbCBjYXJl</td>\n",
       "      <td>720000</td>\n",
       "    </tr>\n",
       "    <tr>\n",
       "      <th>4</th>\n",
       "      <td>SGVhbHRo</td>\n",
       "      <td>700000</td>\n",
       "    </tr>\n",
       "  </tbody>\n",
       "</table>\n",
       "</div>"
      ],
      "text/plain": [
       "                           category  counts of product without prices\n",
       "0  Q2xvdGhpbmcgYW5kIEFjY2Vzc29yaWVz                           2000000\n",
       "1                      Z3JvY2VyaWVz                           1130000\n",
       "2    SG91c2Vob2xkIGFuZCBDbGVhbmluZw                            870000\n",
       "3  YmVhdXR5IGFuZCBwZXJzb25hbCBjYXJl                            720000\n",
       "4                          SGVhbHRo                            700000"
      ]
     },
     "execution_count": 49,
     "metadata": {},
     "output_type": "execute_result"
    }
   ],
   "source": [
    "# locate price string column and count category values where price is null.\n",
    "# nameing this variable counts_cwp\n",
    "counts_cwp = df.loc[df['price_string'].isna(),'category'].value_counts()\n",
    "counts_cwp\n",
    "\n",
    "# convert counts_cwp into dataframe\n",
    "category_without_prices = pd.DataFrame(counts_cwp)\n",
    "category_without_prices = category_without_prices.reset_index() # reset index\n",
    "category_without_prices.columns = ['category', 'counts of product without prices'] # change column names\n",
    "category_without_prices.head()"
   ]
  },
  {
   "cell_type": "markdown",
   "id": "18d8ba32",
   "metadata": {},
   "source": [
    "# 3. Correct price format"
   ]
  },
  {
   "cell_type": "code",
   "execution_count": 50,
   "id": "7e728352",
   "metadata": {},
   "outputs": [],
   "source": [
    "#Extracting currency from price_string\n",
    "df['currency'] = df['price_string'].str.extract(r'([$])')\n",
    "\n",
    "#Extracting the value from price_string\n",
    "df['value'] = df['price_string'].str.extract(r'([0-9]+.[0-9]+)')"
   ]
  },
  {
   "cell_type": "code",
   "execution_count": 51,
   "id": "b7a27cec",
   "metadata": {},
   "outputs": [
    {
     "data": {
      "text/html": [
       "<div>\n",
       "<style scoped>\n",
       "    .dataframe tbody tr th:only-of-type {\n",
       "        vertical-align: middle;\n",
       "    }\n",
       "\n",
       "    .dataframe tbody tr th {\n",
       "        vertical-align: top;\n",
       "    }\n",
       "\n",
       "    .dataframe thead th {\n",
       "        text-align: right;\n",
       "    }\n",
       "</style>\n",
       "<table border=\"1\" class=\"dataframe\">\n",
       "  <thead>\n",
       "    <tr style=\"text-align: right;\">\n",
       "      <th></th>\n",
       "      <th>uuid</th>\n",
       "      <th>price_string</th>\n",
       "      <th>price_string_unf</th>\n",
       "      <th>product_type</th>\n",
       "      <th>level_1</th>\n",
       "      <th>category</th>\n",
       "      <th>currency</th>\n",
       "      <th>value</th>\n",
       "    </tr>\n",
       "  </thead>\n",
       "  <tbody>\n",
       "    <tr>\n",
       "      <th>0</th>\n",
       "      <td>638744a4-b0ae-4166-8cb6-5c063c862036</td>\n",
       "      <td>&lt;NA&gt;</td>\n",
       "      <td>&lt;NA&gt;</td>\n",
       "      <td>TGFwdG9wIENvdmVycy9CYWdz</td>\n",
       "      <td>TGFwdG9wIENhc2U</td>\n",
       "      <td>RWxlY3Ryb25pY3M</td>\n",
       "      <td>NaN</td>\n",
       "      <td>NaN</td>\n",
       "    </tr>\n",
       "    <tr>\n",
       "      <th>1</th>\n",
       "      <td>ab313969-02cc-48b2-9daf-0054efb70b92</td>\n",
       "      <td>&lt;NA&gt;</td>\n",
       "      <td>&lt;NA&gt;</td>\n",
       "      <td>QmFraW5nIEN1cHMgYW5kIE1hdHM</td>\n",
       "      <td>QmFraW5nIE1hdHMgLyBCYWtpbmcgZGlzaA</td>\n",
       "      <td>a2l0Y2hpbmcgYW5kIGRpbmluZw</td>\n",
       "      <td>NaN</td>\n",
       "      <td>NaN</td>\n",
       "    </tr>\n",
       "    <tr>\n",
       "      <th>2</th>\n",
       "      <td>acbd66ff-79f8-467a-91f9-108a45af5626</td>\n",
       "      <td>$19.95</td>\n",
       "      <td>&lt;NA&gt;</td>\n",
       "      <td>R3VtbWllcyB2aXRhbWlucyBhbmQgbWluZXJhbHMgZm9yIG...</td>\n",
       "      <td>SW1tdW5pdHkgZ3VtbWllcw</td>\n",
       "      <td>SGVhbHRo</td>\n",
       "      <td>$</td>\n",
       "      <td>19.95</td>\n",
       "    </tr>\n",
       "    <tr>\n",
       "      <th>3</th>\n",
       "      <td>963915d6-b2e3-4098-b242-9410593cf205</td>\n",
       "      <td>$92.00</td>\n",
       "      <td>&lt;NA&gt;</td>\n",
       "      <td>U2VydW1z</td>\n",
       "      <td>RmFjZSBTZXJ1bQ</td>\n",
       "      <td>YmVhdXR5IGFuZCBwZXJzb25hbCBjYXJl</td>\n",
       "      <td>$</td>\n",
       "      <td>92.00</td>\n",
       "    </tr>\n",
       "    <tr>\n",
       "      <th>4</th>\n",
       "      <td>b5b68f3c-b1e0-40e5-8ee5-e2f7236c1daf</td>\n",
       "      <td>11.50</td>\n",
       "      <td>&lt;NA&gt;</td>\n",
       "      <td>RWF0aW5nIFV0ZW5zaWxzL0N1dGxlcnk</td>\n",
       "      <td>Q2hvcHN0aWNrcw</td>\n",
       "      <td>a2l0Y2hpbmcgYW5kIGRpbmluZw</td>\n",
       "      <td>NaN</td>\n",
       "      <td>11.50</td>\n",
       "    </tr>\n",
       "  </tbody>\n",
       "</table>\n",
       "</div>"
      ],
      "text/plain": [
       "                                   uuid price_string price_string_unf  \\\n",
       "0  638744a4-b0ae-4166-8cb6-5c063c862036         <NA>             <NA>   \n",
       "1  ab313969-02cc-48b2-9daf-0054efb70b92         <NA>             <NA>   \n",
       "2  acbd66ff-79f8-467a-91f9-108a45af5626       $19.95             <NA>   \n",
       "3  963915d6-b2e3-4098-b242-9410593cf205       $92.00             <NA>   \n",
       "4  b5b68f3c-b1e0-40e5-8ee5-e2f7236c1daf        11.50             <NA>   \n",
       "\n",
       "                                        product_type  \\\n",
       "0                           TGFwdG9wIENvdmVycy9CYWdz   \n",
       "1                        QmFraW5nIEN1cHMgYW5kIE1hdHM   \n",
       "2  R3VtbWllcyB2aXRhbWlucyBhbmQgbWluZXJhbHMgZm9yIG...   \n",
       "3                                           U2VydW1z   \n",
       "4                    RWF0aW5nIFV0ZW5zaWxzL0N1dGxlcnk   \n",
       "\n",
       "                              level_1                          category  \\\n",
       "0                     TGFwdG9wIENhc2U                   RWxlY3Ryb25pY3M   \n",
       "1  QmFraW5nIE1hdHMgLyBCYWtpbmcgZGlzaA        a2l0Y2hpbmcgYW5kIGRpbmluZw   \n",
       "2              SW1tdW5pdHkgZ3VtbWllcw                          SGVhbHRo   \n",
       "3                      RmFjZSBTZXJ1bQ  YmVhdXR5IGFuZCBwZXJzb25hbCBjYXJl   \n",
       "4                      Q2hvcHN0aWNrcw        a2l0Y2hpbmcgYW5kIGRpbmluZw   \n",
       "\n",
       "  currency  value  \n",
       "0      NaN    NaN  \n",
       "1      NaN    NaN  \n",
       "2        $  19.95  \n",
       "3        $  92.00  \n",
       "4      NaN  11.50  "
      ]
     },
     "execution_count": 51,
     "metadata": {},
     "output_type": "execute_result"
    }
   ],
   "source": [
    "df.head()"
   ]
  },
  {
   "cell_type": "code",
   "execution_count": 52,
   "id": "df5d0607",
   "metadata": {},
   "outputs": [
    {
     "name": "stderr",
     "output_type": "stream",
     "text": [
      "C:\\Users\\hp\\AppData\\Local\\Temp\\ipykernel_7576\\3068107080.py:2: FutureWarning: The default value of regex will change from True to False in a future version. In addition, single character regular expressions will *not* be treated as literal strings when regex=True.\n",
      "  df['currency'] = df['currency'].str.replace('$','USD')\n"
     ]
    }
   ],
   "source": [
    "# replace $ with USD\n",
    "df['currency'] = df['currency'].str.replace('$','USD')"
   ]
  },
  {
   "cell_type": "code",
   "execution_count": 53,
   "id": "9eecdb8e",
   "metadata": {},
   "outputs": [
    {
     "data": {
      "text/html": [
       "<div>\n",
       "<style scoped>\n",
       "    .dataframe tbody tr th:only-of-type {\n",
       "        vertical-align: middle;\n",
       "    }\n",
       "\n",
       "    .dataframe tbody tr th {\n",
       "        vertical-align: top;\n",
       "    }\n",
       "\n",
       "    .dataframe thead th {\n",
       "        text-align: right;\n",
       "    }\n",
       "</style>\n",
       "<table border=\"1\" class=\"dataframe\">\n",
       "  <thead>\n",
       "    <tr style=\"text-align: right;\">\n",
       "      <th></th>\n",
       "      <th>uuid</th>\n",
       "      <th>price_string</th>\n",
       "      <th>price_string_unf</th>\n",
       "      <th>product_type</th>\n",
       "      <th>level_1</th>\n",
       "      <th>category</th>\n",
       "      <th>currency</th>\n",
       "      <th>value</th>\n",
       "    </tr>\n",
       "  </thead>\n",
       "  <tbody>\n",
       "    <tr>\n",
       "      <th>0</th>\n",
       "      <td>638744a4-b0ae-4166-8cb6-5c063c862036</td>\n",
       "      <td>&lt;NA&gt;</td>\n",
       "      <td>&lt;NA&gt;</td>\n",
       "      <td>TGFwdG9wIENvdmVycy9CYWdz</td>\n",
       "      <td>TGFwdG9wIENhc2U</td>\n",
       "      <td>RWxlY3Ryb25pY3M</td>\n",
       "      <td>NaN</td>\n",
       "      <td>NaN</td>\n",
       "    </tr>\n",
       "    <tr>\n",
       "      <th>1</th>\n",
       "      <td>ab313969-02cc-48b2-9daf-0054efb70b92</td>\n",
       "      <td>&lt;NA&gt;</td>\n",
       "      <td>&lt;NA&gt;</td>\n",
       "      <td>QmFraW5nIEN1cHMgYW5kIE1hdHM</td>\n",
       "      <td>QmFraW5nIE1hdHMgLyBCYWtpbmcgZGlzaA</td>\n",
       "      <td>a2l0Y2hpbmcgYW5kIGRpbmluZw</td>\n",
       "      <td>NaN</td>\n",
       "      <td>NaN</td>\n",
       "    </tr>\n",
       "    <tr>\n",
       "      <th>2</th>\n",
       "      <td>acbd66ff-79f8-467a-91f9-108a45af5626</td>\n",
       "      <td>$19.95</td>\n",
       "      <td>&lt;NA&gt;</td>\n",
       "      <td>R3VtbWllcyB2aXRhbWlucyBhbmQgbWluZXJhbHMgZm9yIG...</td>\n",
       "      <td>SW1tdW5pdHkgZ3VtbWllcw</td>\n",
       "      <td>SGVhbHRo</td>\n",
       "      <td>USD</td>\n",
       "      <td>19.95</td>\n",
       "    </tr>\n",
       "    <tr>\n",
       "      <th>3</th>\n",
       "      <td>963915d6-b2e3-4098-b242-9410593cf205</td>\n",
       "      <td>$92.00</td>\n",
       "      <td>&lt;NA&gt;</td>\n",
       "      <td>U2VydW1z</td>\n",
       "      <td>RmFjZSBTZXJ1bQ</td>\n",
       "      <td>YmVhdXR5IGFuZCBwZXJzb25hbCBjYXJl</td>\n",
       "      <td>USD</td>\n",
       "      <td>92.00</td>\n",
       "    </tr>\n",
       "    <tr>\n",
       "      <th>4</th>\n",
       "      <td>b5b68f3c-b1e0-40e5-8ee5-e2f7236c1daf</td>\n",
       "      <td>11.50</td>\n",
       "      <td>&lt;NA&gt;</td>\n",
       "      <td>RWF0aW5nIFV0ZW5zaWxzL0N1dGxlcnk</td>\n",
       "      <td>Q2hvcHN0aWNrcw</td>\n",
       "      <td>a2l0Y2hpbmcgYW5kIGRpbmluZw</td>\n",
       "      <td>NaN</td>\n",
       "      <td>11.50</td>\n",
       "    </tr>\n",
       "  </tbody>\n",
       "</table>\n",
       "</div>"
      ],
      "text/plain": [
       "                                   uuid price_string price_string_unf  \\\n",
       "0  638744a4-b0ae-4166-8cb6-5c063c862036         <NA>             <NA>   \n",
       "1  ab313969-02cc-48b2-9daf-0054efb70b92         <NA>             <NA>   \n",
       "2  acbd66ff-79f8-467a-91f9-108a45af5626       $19.95             <NA>   \n",
       "3  963915d6-b2e3-4098-b242-9410593cf205       $92.00             <NA>   \n",
       "4  b5b68f3c-b1e0-40e5-8ee5-e2f7236c1daf        11.50             <NA>   \n",
       "\n",
       "                                        product_type  \\\n",
       "0                           TGFwdG9wIENvdmVycy9CYWdz   \n",
       "1                        QmFraW5nIEN1cHMgYW5kIE1hdHM   \n",
       "2  R3VtbWllcyB2aXRhbWlucyBhbmQgbWluZXJhbHMgZm9yIG...   \n",
       "3                                           U2VydW1z   \n",
       "4                    RWF0aW5nIFV0ZW5zaWxzL0N1dGxlcnk   \n",
       "\n",
       "                              level_1                          category  \\\n",
       "0                     TGFwdG9wIENhc2U                   RWxlY3Ryb25pY3M   \n",
       "1  QmFraW5nIE1hdHMgLyBCYWtpbmcgZGlzaA        a2l0Y2hpbmcgYW5kIGRpbmluZw   \n",
       "2              SW1tdW5pdHkgZ3VtbWllcw                          SGVhbHRo   \n",
       "3                      RmFjZSBTZXJ1bQ  YmVhdXR5IGFuZCBwZXJzb25hbCBjYXJl   \n",
       "4                      Q2hvcHN0aWNrcw        a2l0Y2hpbmcgYW5kIGRpbmluZw   \n",
       "\n",
       "  currency  value  \n",
       "0      NaN    NaN  \n",
       "1      NaN    NaN  \n",
       "2      USD  19.95  \n",
       "3      USD  92.00  \n",
       "4      NaN  11.50  "
      ]
     },
     "execution_count": 53,
     "metadata": {},
     "output_type": "execute_result"
    }
   ],
   "source": [
    "df.head()"
   ]
  },
  {
   "cell_type": "markdown",
   "id": "133588d0",
   "metadata": {},
   "source": [
    "# 4. Categories with average price of product"
   ]
  },
  {
   "cell_type": "code",
   "execution_count": 54,
   "id": "bb235d58",
   "metadata": {},
   "outputs": [],
   "source": [
    "# convert the data of value column as float\n",
    "df['value'] = df['value'].astype('float')"
   ]
  },
  {
   "cell_type": "code",
   "execution_count": 56,
   "id": "cefd8fdd",
   "metadata": {},
   "outputs": [
    {
     "data": {
      "text/plain": [
       "category\n",
       "Q2xvdGhpbmcgYW5kIEFjY2Vzc29yaWVz       155.188819\n",
       "QXJ0IHN1cHBsaWVz                        19.471053\n",
       "QmFieWNhcmU                            196.509091\n",
       "RWxlY3Ryb25pY3M                         63.684000\n",
       "SG91c2Vob2xkIGFuZCBDbGVhbmluZw          75.675441\n",
       "SGVhbHRo                                32.557586\n",
       "VG95cyBhbmQgR2FtZXM                     32.448947\n",
       "VG9vbHMgYW5kIGhvbWUgaW1wcm92ZW1lbnQ     82.526111\n",
       "YmVhdXR5IGFuZCBwZXJzb25hbCBjYXJl        34.745067\n",
       "Z3JvY2VyaWVz                            10.541667\n",
       "a2l0Y2hpbmcgYW5kIGRpbmluZw              16.663939\n",
       "b2ZmaWNlIHByb2R1Y3Rz                    20.480000\n",
       "cGV0IHN1cHBsaWVz                        14.181875\n",
       "Name: value, dtype: float64"
      ]
     },
     "execution_count": 56,
     "metadata": {},
     "output_type": "execute_result"
    }
   ],
   "source": [
    "# using groupby method\n",
    "# group the dataset by category column\n",
    "# get price from the value column\n",
    "# aggregate it by mean\n",
    "average_price = df.groupby('category')['value'].agg(np.mean)\n",
    "average_price"
   ]
  },
  {
   "cell_type": "code",
   "execution_count": 57,
   "id": "cf2757fc",
   "metadata": {},
   "outputs": [
    {
     "data": {
      "text/plain": [
       "Text(0.5, 1.0, 'Average Price per Product Type')"
      ]
     },
     "execution_count": 57,
     "metadata": {},
     "output_type": "execute_result"
    },
    {
     "data": {
      "image/png": "[encoded data removed]",
      "text/plain": [
       "<Figure size 432x288 with 1 Axes>"
      ]
     },
     "metadata": {
      "needs_background": "light"
     },
     "output_type": "display_data"
    }
   ],
   "source": [
    "average_price.plot(kind='bar', color = 'red')\n",
    "plt.xlabel(\"Product Types\")\n",
    "plt.ylabel(\"Average Price\")\n",
    "plt.title(\"Average Price per Product Type\")"
   ]
  },
  {
   "cell_type": "code",
   "execution_count": 58,
   "id": "c4e7db65",
   "metadata": {},
   "outputs": [
    {
     "data": {
      "text/html": [
       "<div>\n",
       "<style scoped>\n",
       "    .dataframe tbody tr th:only-of-type {\n",
       "        vertical-align: middle;\n",
       "    }\n",
       "\n",
       "    .dataframe tbody tr th {\n",
       "        vertical-align: top;\n",
       "    }\n",
       "\n",
       "    .dataframe thead th {\n",
       "        text-align: right;\n",
       "    }\n",
       "</style>\n",
       "<table border=\"1\" class=\"dataframe\">\n",
       "  <thead>\n",
       "    <tr style=\"text-align: right;\">\n",
       "      <th></th>\n",
       "      <th>category</th>\n",
       "      <th>Average Price</th>\n",
       "    </tr>\n",
       "  </thead>\n",
       "  <tbody>\n",
       "    <tr>\n",
       "      <th>0</th>\n",
       "      <td>Q2xvdGhpbmcgYW5kIEFjY2Vzc29yaWVz</td>\n",
       "      <td>155.188819</td>\n",
       "    </tr>\n",
       "    <tr>\n",
       "      <th>1</th>\n",
       "      <td>QXJ0IHN1cHBsaWVz</td>\n",
       "      <td>19.471053</td>\n",
       "    </tr>\n",
       "    <tr>\n",
       "      <th>2</th>\n",
       "      <td>QmFieWNhcmU</td>\n",
       "      <td>196.509091</td>\n",
       "    </tr>\n",
       "    <tr>\n",
       "      <th>3</th>\n",
       "      <td>RWxlY3Ryb25pY3M</td>\n",
       "      <td>63.684000</td>\n",
       "    </tr>\n",
       "    <tr>\n",
       "      <th>4</th>\n",
       "      <td>SG91c2Vob2xkIGFuZCBDbGVhbmluZw</td>\n",
       "      <td>75.675441</td>\n",
       "    </tr>\n",
       "  </tbody>\n",
       "</table>\n",
       "</div>"
      ],
      "text/plain": [
       "                           category  Average Price\n",
       "0  Q2xvdGhpbmcgYW5kIEFjY2Vzc29yaWVz     155.188819\n",
       "1                  QXJ0IHN1cHBsaWVz      19.471053\n",
       "2                       QmFieWNhcmU     196.509091\n",
       "3                   RWxlY3Ryb25pY3M      63.684000\n",
       "4    SG91c2Vob2xkIGFuZCBDbGVhbmluZw      75.675441"
      ]
     },
     "execution_count": 58,
     "metadata": {},
     "output_type": "execute_result"
    }
   ],
   "source": [
    "# convert average_price into dataframe\n",
    "avg_price = pd.DataFrame(average_price)\n",
    "avg_price = avg_price.reset_index() # reset index\n",
    "avg_price.columns = ['category', 'Average Price'] # change column names\n",
    "avg_price.head()"
   ]
  },
  {
   "cell_type": "code",
   "execution_count": 59,
   "id": "0778f747",
   "metadata": {},
   "outputs": [],
   "source": [
    "# converting the price into currency format\n",
    "avg_price['Average Price'] = avg_price['Average Price'].astype('float').apply('${0:.2f}'.format)"
   ]
  },
  {
   "cell_type": "code",
   "execution_count": 60,
   "id": "858f6d26",
   "metadata": {},
   "outputs": [
    {
     "data": {
      "text/html": [
       "<div>\n",
       "<style scoped>\n",
       "    .dataframe tbody tr th:only-of-type {\n",
       "        vertical-align: middle;\n",
       "    }\n",
       "\n",
       "    .dataframe tbody tr th {\n",
       "        vertical-align: top;\n",
       "    }\n",
       "\n",
       "    .dataframe thead th {\n",
       "        text-align: right;\n",
       "    }\n",
       "</style>\n",
       "<table border=\"1\" class=\"dataframe\">\n",
       "  <thead>\n",
       "    <tr style=\"text-align: right;\">\n",
       "      <th></th>\n",
       "      <th>category</th>\n",
       "      <th>Average Price</th>\n",
       "    </tr>\n",
       "  </thead>\n",
       "  <tbody>\n",
       "    <tr>\n",
       "      <th>0</th>\n",
       "      <td>Q2xvdGhpbmcgYW5kIEFjY2Vzc29yaWVz</td>\n",
       "      <td>$155.19</td>\n",
       "    </tr>\n",
       "    <tr>\n",
       "      <th>1</th>\n",
       "      <td>QXJ0IHN1cHBsaWVz</td>\n",
       "      <td>$19.47</td>\n",
       "    </tr>\n",
       "    <tr>\n",
       "      <th>2</th>\n",
       "      <td>QmFieWNhcmU</td>\n",
       "      <td>$196.51</td>\n",
       "    </tr>\n",
       "    <tr>\n",
       "      <th>3</th>\n",
       "      <td>RWxlY3Ryb25pY3M</td>\n",
       "      <td>$63.68</td>\n",
       "    </tr>\n",
       "    <tr>\n",
       "      <th>4</th>\n",
       "      <td>SG91c2Vob2xkIGFuZCBDbGVhbmluZw</td>\n",
       "      <td>$75.68</td>\n",
       "    </tr>\n",
       "  </tbody>\n",
       "</table>\n",
       "</div>"
      ],
      "text/plain": [
       "                           category Average Price\n",
       "0  Q2xvdGhpbmcgYW5kIEFjY2Vzc29yaWVz       $155.19\n",
       "1                  QXJ0IHN1cHBsaWVz        $19.47\n",
       "2                       QmFieWNhcmU       $196.51\n",
       "3                   RWxlY3Ryb25pY3M        $63.68\n",
       "4    SG91c2Vob2xkIGFuZCBDbGVhbmluZw        $75.68"
      ]
     },
     "execution_count": 60,
     "metadata": {},
     "output_type": "execute_result"
    }
   ],
   "source": [
    "avg_price.head()"
   ]
  },
  {
   "cell_type": "code",
   "execution_count": null,
   "id": "0d73b690",
   "metadata": {},
   "outputs": [],
   "source": []
  }
 ],
 "metadata": {
  "kernelspec": {
   "display_name": "Python 3 (ipykernel)",
   "language": "python",
   "name": "python3"
  },
  "language_info": {
   "codemirror_mode": {
    "name": "ipython",
    "version": 3
   },
   "file_extension": ".py",
   "mimetype": "text/x-python",
   "name": "python",
   "nbconvert_exporter": "python",
   "pygments_lexer": "ipython3",
   "version": "3.8.5"
  }
 },
 "nbformat": 4,
 "nbformat_minor": 5
}
